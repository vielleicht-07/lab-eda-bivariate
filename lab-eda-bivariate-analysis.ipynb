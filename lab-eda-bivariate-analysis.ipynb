{
 "cells": [
  {
   "cell_type": "code",
   "execution_count": 12,
   "id": "cc876aa8-4c92-4d71-9aae-c0922aeb3d8b",
   "metadata": {},
   "outputs": [],
   "source": [
    "## hi"
   ]
  },
  {
   "cell_type": "code",
   "execution_count": null,
   "id": "226e24c4-c117-4cfb-954d-c95eb0a96dd1",
   "metadata": {},
   "outputs": [],
   "source": []
  },
  {
   "cell_type": "code",
   "execution_count": null,
   "id": "3baebba6-4f4c-4f01-a9d5-7119248088f1",
   "metadata": {},
   "outputs": [],
   "source": [
    "#pip install scipy"
   ]
  },
  {
   "cell_type": "code",
   "execution_count": null,
   "id": "127a5215-b16b-4f09-b99e-7191c4c8475a",
   "metadata": {},
   "outputs": [],
   "source": []
  },
  {
   "cell_type": "markdown",
   "id": "02033f70-0c07-4113-a3cb-a9a3323bbf4b",
   "metadata": {},
   "source": [
    "## Lab - EDA Bivariate Analysis: Diving into Amazon UK Product Insights Part II"
   ]
  },
  {
   "cell_type": "markdown",
   "id": "4cb4a1f2-8b84-4dc9-a704-17b1584b5a20",
   "metadata": {
    "jp-MarkdownHeadingCollapsed": true
   },
   "source": [
    "\n",
    "\n",
    "**Objective**: Delve into the dynamics of product pricing on Amazon UK to uncover insights that can inform business strategies and decision-making.\n",
    "\n",
    "**Dataset**: This lab utilizes the [Amazon UK product dataset](https://www.kaggle.com/datasets/asaniczka/uk-optimal-product-price-prediction/)\n",
    "which provides information on product categories, brands, prices, ratings, and more from from Amazon UK. You'll need to download it to start working with it.\n",
    "\n",
    "---\n",
    "\n",
    "### Part 1: Analyzing Best-Seller Trends Across Product Categories\n",
    "\n",
    "**Objective**: Understand the relationship between product categories and their best-seller status.\n",
    "\n",
    "1. **Crosstab Analysis**:\n",
    "    - Create a crosstab between the product `category` and the `isBestSeller` status.\n",
    "    \n",
    "    - Are there categories where being a best-seller is more prevalent? \n",
    "    \t\n",
    "    \t*Hint: one option is to calculate the proportion of best-sellers for each category and then sort the categories based on this proportion in descending order.*\n",
    "\n",
    "\n",
    "2. **Statistical Tests**:\n",
    "    - Conduct a Chi-square test to determine if the best-seller distribution is independent of the product category.\n",
    "    - Compute Cramér's V to understand the strength of association between best-seller status and category.\n",
    "\n",
    "3. **Visualizations**:\n",
    "\t- Visualize the relationship between product categories and the best-seller status using a stacked bar chart.\n",
    "\n",
    "---\n",
    "\n",
    "### Part 2: Exploring Product Prices and Ratings Across Categories and Brands\n",
    "\n",
    "**Objective**: Investigate how different product categories influence product prices.\n",
    "\n",
    "0. **Preliminary Step: Remove outliers in product prices.**\n",
    "\n",
    "\tFor this purpose, we can use the IQR (Interquartile Range) method. Products priced below the first quartile minus 1.5 times the IQR or above the third quartile plus 1.5 times the IQR will be considered outliers and removed from the dataset. The next steps will be done with the dataframe without outliers.\n",
    "\t\n",
    "\t*Hint: you can check the last Check For Understanding at the end of the lesson EDA Bivariate Analysis for a hint on how to do this.*\n",
    "\n",
    "1. **Violin Plots**:\n",
    "    - Use a violin plot to visualize the distribution of `price` across different product `categories`. Filter out the top 20 categories based on count for better visualization.\n",
    "    - Which product category tends to have the highest median price? Don't filter here by top categories.\n",
    "\n",
    "2. **Bar Charts**:\n",
    "    - Create a bar chart comparing the average price of products for the top 10 product categories (based on count).\n",
    "    - Which product category commands the highest average price? Don't filter here by top categories.\n",
    "\n",
    "3. **Box Plots**:\n",
    "    - Visualize the distribution of product `ratings` based on their `category` using side-by-side box plots. Filter out the top 10 categories based on count for better visualization.\n",
    "    - Which category tends to receive the highest median rating from customers? Don't filter here by top categories.\n",
    "\n",
    "---\n",
    "\n",
    "### Part 3: Investigating the Interplay Between Product Prices and Ratings\n",
    "\n",
    "**Objective**: Analyze how product ratings (`stars`) correlate with product prices.\n",
    "\n",
    "1. **Correlation Coefficients**:\n",
    "    - Calculate the correlation coefficient between `price` and `stars`.\n",
    "    - Is there a significant correlation between product price and its rating?\n",
    "\t\n",
    "2. **Visualizations**:\n",
    "    - Use a scatter plot to visualize the relationship between product rating and price. What patterns can you observe?\n",
    "    - Use a correlation heatmap to visualize correlations between all numerical variables.\n",
    "    - Examine if product prices typically follow a normal distribution using a QQ plot. \n",
    "\n",
    "---\n",
    "\n",
    "**Submission**: Submit a Jupyter Notebook which contains code and a business-centric report summarizing your findings. \n",
    "\n",
    "**Bonus**: \n",
    "\n",
    "- Do the same analysis without taking out the outliers. What are your insights?\n",
    "\n"
   ]
  },
  {
   "cell_type": "code",
   "execution_count": null,
   "id": "3bb47a45-3a50-447f-87cc-ab855948b742",
   "metadata": {},
   "outputs": [],
   "source": []
  },
  {
   "cell_type": "code",
   "execution_count": null,
   "id": "b5f91345-bea7-482d-9dce-068833a5fd9c",
   "metadata": {},
   "outputs": [],
   "source": []
  },
  {
   "cell_type": "code",
   "execution_count": null,
   "id": "ec118425-ded4-44ec-ab95-8e2b713e3b50",
   "metadata": {},
   "outputs": [],
   "source": []
  },
  {
   "cell_type": "markdown",
   "id": "3a302faa-d967-481c-8ac9-eac002a84e27",
   "metadata": {},
   "source": [
    "# Code"
   ]
  },
  {
   "cell_type": "code",
   "execution_count": null,
   "id": "30e8e4de-a4db-4fa2-b727-c48fcb9244bc",
   "metadata": {},
   "outputs": [],
   "source": []
  },
  {
   "cell_type": "code",
   "execution_count": 9,
   "id": "b39fb8e6-1b8b-4d41-bdb0-d894f11c2ed4",
   "metadata": {},
   "outputs": [],
   "source": [
    "import pandas as pd\n",
    "import matplotlib.pyplot as plt\n",
    "import seaborn as sns\n",
    "import numpy as np"
   ]
  },
  {
   "cell_type": "code",
   "execution_count": 10,
   "id": "ed2f9532-2532-4b29-862a-a230283fbaa3",
   "metadata": {},
   "outputs": [],
   "source": [
    "df = pd.read_csv(\"amz_uk_price_prediction_dataset.csv\")"
   ]
  },
  {
   "cell_type": "code",
   "execution_count": 11,
   "id": "a120f07d-b413-4166-ad3a-bc7b037f606c",
   "metadata": {},
   "outputs": [
    {
     "data": {
      "text/html": [
       "<div>\n",
       "<style scoped>\n",
       "    .dataframe tbody tr th:only-of-type {\n",
       "        vertical-align: middle;\n",
       "    }\n",
       "\n",
       "    .dataframe tbody tr th {\n",
       "        vertical-align: top;\n",
       "    }\n",
       "\n",
       "    .dataframe thead th {\n",
       "        text-align: right;\n",
       "    }\n",
       "</style>\n",
       "<table border=\"1\" class=\"dataframe\">\n",
       "  <thead>\n",
       "    <tr style=\"text-align: right;\">\n",
       "      <th></th>\n",
       "      <th>uid</th>\n",
       "      <th>asin</th>\n",
       "      <th>title</th>\n",
       "      <th>stars</th>\n",
       "      <th>reviews</th>\n",
       "      <th>price</th>\n",
       "      <th>isBestSeller</th>\n",
       "      <th>boughtInLastMonth</th>\n",
       "      <th>category</th>\n",
       "    </tr>\n",
       "  </thead>\n",
       "  <tbody>\n",
       "    <tr>\n",
       "      <th>0</th>\n",
       "      <td>1</td>\n",
       "      <td>B09B96TG33</td>\n",
       "      <td>Echo Dot (5th generation, 2022 release) | Big ...</td>\n",
       "      <td>4.7</td>\n",
       "      <td>15308</td>\n",
       "      <td>21.99</td>\n",
       "      <td>False</td>\n",
       "      <td>0</td>\n",
       "      <td>Hi-Fi Speakers</td>\n",
       "    </tr>\n",
       "    <tr>\n",
       "      <th>1</th>\n",
       "      <td>2</td>\n",
       "      <td>B01HTH3C8S</td>\n",
       "      <td>Anker Soundcore mini, Super-Portable Bluetooth...</td>\n",
       "      <td>4.7</td>\n",
       "      <td>98099</td>\n",
       "      <td>23.99</td>\n",
       "      <td>True</td>\n",
       "      <td>0</td>\n",
       "      <td>Hi-Fi Speakers</td>\n",
       "    </tr>\n",
       "  </tbody>\n",
       "</table>\n",
       "</div>"
      ],
      "text/plain": [
       "   uid        asin                                              title  stars  \\\n",
       "0    1  B09B96TG33  Echo Dot (5th generation, 2022 release) | Big ...    4.7   \n",
       "1    2  B01HTH3C8S  Anker Soundcore mini, Super-Portable Bluetooth...    4.7   \n",
       "\n",
       "   reviews  price  isBestSeller  boughtInLastMonth        category  \n",
       "0    15308  21.99         False                  0  Hi-Fi Speakers  \n",
       "1    98099  23.99          True                  0  Hi-Fi Speakers  "
      ]
     },
     "execution_count": 11,
     "metadata": {},
     "output_type": "execute_result"
    }
   ],
   "source": [
    "df.head(2)"
   ]
  },
  {
   "cell_type": "code",
   "execution_count": null,
   "id": "755efb4a-159a-4cd3-93b5-1210add3311c",
   "metadata": {},
   "outputs": [],
   "source": []
  },
  {
   "cell_type": "code",
   "execution_count": null,
   "id": "74fd42d6-0b21-4194-a66f-fc58a92c072a",
   "metadata": {},
   "outputs": [],
   "source": []
  },
  {
   "cell_type": "markdown",
   "id": "45a10700-ed7d-4486-a74f-fdab4da101e0",
   "metadata": {},
   "source": [
    "## Part 1: Analyzing Best-Seller Trends Across Product Categories\n"
   ]
  },
  {
   "cell_type": "markdown",
   "id": "2a8cdb9e-f0d2-4070-b01f-4cc6aa5e97c3",
   "metadata": {},
   "source": [
    "### 1. Crosstab Analysis:\n",
    "\n",
    "- Create a crosstab between the product category and the isBestSeller status.\n",
    "\n",
    "- Are there categories where being a best-seller is more prevalent?\n",
    "\n",
    "- Hint: one option is to calculate the proportion of best-sellers for each category and then sort the categories based on this proportion in descending order."
   ]
  },
  {
   "cell_type": "code",
   "execution_count": null,
   "id": "05b0296b-46c0-40f6-888a-e3a5471e022c",
   "metadata": {},
   "outputs": [],
   "source": []
  },
  {
   "cell_type": "code",
   "execution_count": 22,
   "id": "f50cdfe3-c724-464e-9dba-10eae1fb0fdf",
   "metadata": {},
   "outputs": [],
   "source": [
    "part1 = df.copy()"
   ]
  },
  {
   "cell_type": "code",
   "execution_count": 24,
   "id": "77112fef-095b-4a3d-bd10-0e46ff910859",
   "metadata": {},
   "outputs": [
    {
     "data": {
      "text/html": [
       "<div>\n",
       "<style scoped>\n",
       "    .dataframe tbody tr th:only-of-type {\n",
       "        vertical-align: middle;\n",
       "    }\n",
       "\n",
       "    .dataframe tbody tr th {\n",
       "        vertical-align: top;\n",
       "    }\n",
       "\n",
       "    .dataframe thead th {\n",
       "        text-align: right;\n",
       "    }\n",
       "</style>\n",
       "<table border=\"1\" class=\"dataframe\">\n",
       "  <thead>\n",
       "    <tr style=\"text-align: right;\">\n",
       "      <th></th>\n",
       "      <th>uid</th>\n",
       "      <th>asin</th>\n",
       "      <th>title</th>\n",
       "      <th>stars</th>\n",
       "      <th>reviews</th>\n",
       "      <th>price</th>\n",
       "      <th>isBestSeller</th>\n",
       "      <th>boughtInLastMonth</th>\n",
       "      <th>category</th>\n",
       "    </tr>\n",
       "  </thead>\n",
       "  <tbody>\n",
       "    <tr>\n",
       "      <th>0</th>\n",
       "      <td>1</td>\n",
       "      <td>B09B96TG33</td>\n",
       "      <td>Echo Dot (5th generation, 2022 release) | Big ...</td>\n",
       "      <td>4.7</td>\n",
       "      <td>15308</td>\n",
       "      <td>21.99</td>\n",
       "      <td>False</td>\n",
       "      <td>0</td>\n",
       "      <td>Hi-Fi Speakers</td>\n",
       "    </tr>\n",
       "    <tr>\n",
       "      <th>1</th>\n",
       "      <td>2</td>\n",
       "      <td>B01HTH3C8S</td>\n",
       "      <td>Anker Soundcore mini, Super-Portable Bluetooth...</td>\n",
       "      <td>4.7</td>\n",
       "      <td>98099</td>\n",
       "      <td>23.99</td>\n",
       "      <td>True</td>\n",
       "      <td>0</td>\n",
       "      <td>Hi-Fi Speakers</td>\n",
       "    </tr>\n",
       "  </tbody>\n",
       "</table>\n",
       "</div>"
      ],
      "text/plain": [
       "   uid        asin                                              title  stars  \\\n",
       "0    1  B09B96TG33  Echo Dot (5th generation, 2022 release) | Big ...    4.7   \n",
       "1    2  B01HTH3C8S  Anker Soundcore mini, Super-Portable Bluetooth...    4.7   \n",
       "\n",
       "   reviews  price  isBestSeller  boughtInLastMonth        category  \n",
       "0    15308  21.99         False                  0  Hi-Fi Speakers  \n",
       "1    98099  23.99          True                  0  Hi-Fi Speakers  "
      ]
     },
     "execution_count": 24,
     "metadata": {},
     "output_type": "execute_result"
    }
   ],
   "source": [
    "part1.head(2)"
   ]
  },
  {
   "cell_type": "code",
   "execution_count": 40,
   "id": "5c7dff7b-5f39-434b-a617-35dd86f70253",
   "metadata": {},
   "outputs": [],
   "source": [
    "crostab_part1 = pd.crosstab(df[\"category\"], df[\"isBestSeller\"])"
   ]
  },
  {
   "cell_type": "code",
   "execution_count": 42,
   "id": "3e544624-feb3-4299-a327-f8848719ae0c",
   "metadata": {},
   "outputs": [
    {
     "data": {
      "text/html": [
       "<div>\n",
       "<style scoped>\n",
       "    .dataframe tbody tr th:only-of-type {\n",
       "        vertical-align: middle;\n",
       "    }\n",
       "\n",
       "    .dataframe tbody tr th {\n",
       "        vertical-align: top;\n",
       "    }\n",
       "\n",
       "    .dataframe thead th {\n",
       "        text-align: right;\n",
       "    }\n",
       "</style>\n",
       "<table border=\"1\" class=\"dataframe\">\n",
       "  <thead>\n",
       "    <tr style=\"text-align: right;\">\n",
       "      <th>isBestSeller</th>\n",
       "      <th>False</th>\n",
       "      <th>True</th>\n",
       "    </tr>\n",
       "    <tr>\n",
       "      <th>category</th>\n",
       "      <th></th>\n",
       "      <th></th>\n",
       "    </tr>\n",
       "  </thead>\n",
       "  <tbody>\n",
       "    <tr>\n",
       "      <th>3D Printers</th>\n",
       "      <td>247</td>\n",
       "      <td>1</td>\n",
       "    </tr>\n",
       "    <tr>\n",
       "      <th>3D Printing &amp; Scanning</th>\n",
       "      <td>4065</td>\n",
       "      <td>2</td>\n",
       "    </tr>\n",
       "    <tr>\n",
       "      <th>Abrasive &amp; Finishing Products</th>\n",
       "      <td>245</td>\n",
       "      <td>5</td>\n",
       "    </tr>\n",
       "    <tr>\n",
       "      <th>Action Cameras</th>\n",
       "      <td>1696</td>\n",
       "      <td>1</td>\n",
       "    </tr>\n",
       "    <tr>\n",
       "      <th>Adapters</th>\n",
       "      <td>251</td>\n",
       "      <td>3</td>\n",
       "    </tr>\n",
       "    <tr>\n",
       "      <th>...</th>\n",
       "      <td>...</td>\n",
       "      <td>...</td>\n",
       "    </tr>\n",
       "    <tr>\n",
       "      <th>Wind Instruments</th>\n",
       "      <td>243</td>\n",
       "      <td>7</td>\n",
       "    </tr>\n",
       "    <tr>\n",
       "      <th>Window Treatments</th>\n",
       "      <td>234</td>\n",
       "      <td>5</td>\n",
       "    </tr>\n",
       "    <tr>\n",
       "      <th>Women</th>\n",
       "      <td>17559</td>\n",
       "      <td>213</td>\n",
       "    </tr>\n",
       "    <tr>\n",
       "      <th>Women's Sports &amp; Outdoor Shoes</th>\n",
       "      <td>1939</td>\n",
       "      <td>20</td>\n",
       "    </tr>\n",
       "    <tr>\n",
       "      <th>eBook Readers &amp; Accessories</th>\n",
       "      <td>246</td>\n",
       "      <td>0</td>\n",
       "    </tr>\n",
       "  </tbody>\n",
       "</table>\n",
       "<p>296 rows × 2 columns</p>\n",
       "</div>"
      ],
      "text/plain": [
       "isBestSeller                    False  True \n",
       "category                                    \n",
       "3D Printers                       247      1\n",
       "3D Printing & Scanning           4065      2\n",
       "Abrasive & Finishing Products     245      5\n",
       "Action Cameras                   1696      1\n",
       "Adapters                          251      3\n",
       "...                               ...    ...\n",
       "Wind Instruments                  243      7\n",
       "Window Treatments                 234      5\n",
       "Women                           17559    213\n",
       "Women's Sports & Outdoor Shoes   1939     20\n",
       "eBook Readers & Accessories       246      0\n",
       "\n",
       "[296 rows x 2 columns]"
      ]
     },
     "execution_count": 42,
     "metadata": {},
     "output_type": "execute_result"
    }
   ],
   "source": [
    "crostab_part1"
   ]
  },
  {
   "cell_type": "code",
   "execution_count": 63,
   "id": "cdecf284-6849-4d12-9a05-95dcf952d760",
   "metadata": {},
   "outputs": [],
   "source": [
    "crostab_part1[\"percentage\"] = crostab_part1[True] / crostab_part1[False]"
   ]
  },
  {
   "cell_type": "code",
   "execution_count": 65,
   "id": "fcc01d6b-756c-49fb-9f1d-450bdb7644fa",
   "metadata": {},
   "outputs": [
    {
     "data": {
      "text/html": [
       "<div>\n",
       "<style scoped>\n",
       "    .dataframe tbody tr th:only-of-type {\n",
       "        vertical-align: middle;\n",
       "    }\n",
       "\n",
       "    .dataframe tbody tr th {\n",
       "        vertical-align: top;\n",
       "    }\n",
       "\n",
       "    .dataframe thead th {\n",
       "        text-align: right;\n",
       "    }\n",
       "</style>\n",
       "<table border=\"1\" class=\"dataframe\">\n",
       "  <thead>\n",
       "    <tr style=\"text-align: right;\">\n",
       "      <th>isBestSeller</th>\n",
       "      <th>False</th>\n",
       "      <th>True</th>\n",
       "      <th>percentage</th>\n",
       "    </tr>\n",
       "    <tr>\n",
       "      <th>category</th>\n",
       "      <th></th>\n",
       "      <th></th>\n",
       "      <th></th>\n",
       "    </tr>\n",
       "  </thead>\n",
       "  <tbody>\n",
       "    <tr>\n",
       "      <th>Grocery</th>\n",
       "      <td>9008</td>\n",
       "      <td>556</td>\n",
       "      <td>0.061723</td>\n",
       "    </tr>\n",
       "    <tr>\n",
       "      <th>Smart Home Security &amp; Lighting</th>\n",
       "      <td>98</td>\n",
       "      <td>6</td>\n",
       "      <td>0.061224</td>\n",
       "    </tr>\n",
       "    <tr>\n",
       "      <th>Health &amp; Personal Care</th>\n",
       "      <td>9017</td>\n",
       "      <td>552</td>\n",
       "      <td>0.061218</td>\n",
       "    </tr>\n",
       "    <tr>\n",
       "      <th>Mobile Phone Accessories</th>\n",
       "      <td>248</td>\n",
       "      <td>11</td>\n",
       "      <td>0.044355</td>\n",
       "    </tr>\n",
       "    <tr>\n",
       "      <th>Power &amp; Hand Tools</th>\n",
       "      <td>8353</td>\n",
       "      <td>306</td>\n",
       "      <td>0.036634</td>\n",
       "    </tr>\n",
       "    <tr>\n",
       "      <th>...</th>\n",
       "      <td>...</td>\n",
       "      <td>...</td>\n",
       "      <td>...</td>\n",
       "    </tr>\n",
       "    <tr>\n",
       "      <th>Internal TV Tuner &amp; Video Capture Cards</th>\n",
       "      <td>253</td>\n",
       "      <td>0</td>\n",
       "      <td>0.000000</td>\n",
       "    </tr>\n",
       "    <tr>\n",
       "      <th>Motherboards</th>\n",
       "      <td>259</td>\n",
       "      <td>0</td>\n",
       "      <td>0.000000</td>\n",
       "    </tr>\n",
       "    <tr>\n",
       "      <th>Motorbike Chassis</th>\n",
       "      <td>107</td>\n",
       "      <td>0</td>\n",
       "      <td>0.000000</td>\n",
       "    </tr>\n",
       "    <tr>\n",
       "      <th>Hydraulics, Pneumatics &amp; Plumbing</th>\n",
       "      <td>244</td>\n",
       "      <td>0</td>\n",
       "      <td>0.000000</td>\n",
       "    </tr>\n",
       "    <tr>\n",
       "      <th>eBook Readers &amp; Accessories</th>\n",
       "      <td>246</td>\n",
       "      <td>0</td>\n",
       "      <td>0.000000</td>\n",
       "    </tr>\n",
       "  </tbody>\n",
       "</table>\n",
       "<p>296 rows × 3 columns</p>\n",
       "</div>"
      ],
      "text/plain": [
       "isBestSeller                             False  True  percentage\n",
       "category                                                        \n",
       "Grocery                                   9008   556    0.061723\n",
       "Smart Home Security & Lighting              98     6    0.061224\n",
       "Health & Personal Care                    9017   552    0.061218\n",
       "Mobile Phone Accessories                   248    11    0.044355\n",
       "Power & Hand Tools                        8353   306    0.036634\n",
       "...                                        ...   ...         ...\n",
       "Internal TV Tuner & Video Capture Cards    253     0    0.000000\n",
       "Motherboards                               259     0    0.000000\n",
       "Motorbike Chassis                          107     0    0.000000\n",
       "Hydraulics, Pneumatics & Plumbing          244     0    0.000000\n",
       "eBook Readers & Accessories                246     0    0.000000\n",
       "\n",
       "[296 rows x 3 columns]"
      ]
     },
     "execution_count": 65,
     "metadata": {},
     "output_type": "execute_result"
    }
   ],
   "source": [
    "crostab_part1"
   ]
  },
  {
   "cell_type": "code",
   "execution_count": null,
   "id": "69808d0f-e553-4425-92c0-cf19675e5048",
   "metadata": {},
   "outputs": [],
   "source": []
  },
  {
   "cell_type": "code",
   "execution_count": 219,
   "id": "20d18889-0c56-4f80-b903-76831cefb065",
   "metadata": {},
   "outputs": [],
   "source": [
    "crostab_part1 = crostab_part1.sort_values(by=\"percentage\", ascending=False)"
   ]
  },
  {
   "cell_type": "code",
   "execution_count": 57,
   "id": "5a25cdf8-9db7-4f9d-8193-4a1f1a53f3ac",
   "metadata": {},
   "outputs": [
    {
     "data": {
      "text/html": [
       "<div>\n",
       "<style scoped>\n",
       "    .dataframe tbody tr th:only-of-type {\n",
       "        vertical-align: middle;\n",
       "    }\n",
       "\n",
       "    .dataframe tbody tr th {\n",
       "        vertical-align: top;\n",
       "    }\n",
       "\n",
       "    .dataframe thead th {\n",
       "        text-align: right;\n",
       "    }\n",
       "</style>\n",
       "<table border=\"1\" class=\"dataframe\">\n",
       "  <thead>\n",
       "    <tr style=\"text-align: right;\">\n",
       "      <th>isBestSeller</th>\n",
       "      <th>False</th>\n",
       "      <th>True</th>\n",
       "      <th>percentage</th>\n",
       "    </tr>\n",
       "    <tr>\n",
       "      <th>category</th>\n",
       "      <th></th>\n",
       "      <th></th>\n",
       "      <th></th>\n",
       "    </tr>\n",
       "  </thead>\n",
       "  <tbody>\n",
       "    <tr>\n",
       "      <th>Grocery</th>\n",
       "      <td>9008</td>\n",
       "      <td>556</td>\n",
       "      <td>0.061723</td>\n",
       "    </tr>\n",
       "    <tr>\n",
       "      <th>Smart Home Security &amp; Lighting</th>\n",
       "      <td>98</td>\n",
       "      <td>6</td>\n",
       "      <td>0.061224</td>\n",
       "    </tr>\n",
       "    <tr>\n",
       "      <th>Health &amp; Personal Care</th>\n",
       "      <td>9017</td>\n",
       "      <td>552</td>\n",
       "      <td>0.061218</td>\n",
       "    </tr>\n",
       "    <tr>\n",
       "      <th>Mobile Phone Accessories</th>\n",
       "      <td>248</td>\n",
       "      <td>11</td>\n",
       "      <td>0.044355</td>\n",
       "    </tr>\n",
       "    <tr>\n",
       "      <th>Power &amp; Hand Tools</th>\n",
       "      <td>8353</td>\n",
       "      <td>306</td>\n",
       "      <td>0.036634</td>\n",
       "    </tr>\n",
       "    <tr>\n",
       "      <th>...</th>\n",
       "      <td>...</td>\n",
       "      <td>...</td>\n",
       "      <td>...</td>\n",
       "    </tr>\n",
       "    <tr>\n",
       "      <th>Internal TV Tuner &amp; Video Capture Cards</th>\n",
       "      <td>253</td>\n",
       "      <td>0</td>\n",
       "      <td>0.000000</td>\n",
       "    </tr>\n",
       "    <tr>\n",
       "      <th>Motherboards</th>\n",
       "      <td>259</td>\n",
       "      <td>0</td>\n",
       "      <td>0.000000</td>\n",
       "    </tr>\n",
       "    <tr>\n",
       "      <th>Motorbike Chassis</th>\n",
       "      <td>107</td>\n",
       "      <td>0</td>\n",
       "      <td>0.000000</td>\n",
       "    </tr>\n",
       "    <tr>\n",
       "      <th>Hydraulics, Pneumatics &amp; Plumbing</th>\n",
       "      <td>244</td>\n",
       "      <td>0</td>\n",
       "      <td>0.000000</td>\n",
       "    </tr>\n",
       "    <tr>\n",
       "      <th>eBook Readers &amp; Accessories</th>\n",
       "      <td>246</td>\n",
       "      <td>0</td>\n",
       "      <td>0.000000</td>\n",
       "    </tr>\n",
       "  </tbody>\n",
       "</table>\n",
       "<p>296 rows × 3 columns</p>\n",
       "</div>"
      ],
      "text/plain": [
       "isBestSeller                             False  True  percentage\n",
       "category                                                        \n",
       "Grocery                                   9008   556    0.061723\n",
       "Smart Home Security & Lighting              98     6    0.061224\n",
       "Health & Personal Care                    9017   552    0.061218\n",
       "Mobile Phone Accessories                   248    11    0.044355\n",
       "Power & Hand Tools                        8353   306    0.036634\n",
       "...                                        ...   ...         ...\n",
       "Internal TV Tuner & Video Capture Cards    253     0    0.000000\n",
       "Motherboards                               259     0    0.000000\n",
       "Motorbike Chassis                          107     0    0.000000\n",
       "Hydraulics, Pneumatics & Plumbing          244     0    0.000000\n",
       "eBook Readers & Accessories                246     0    0.000000\n",
       "\n",
       "[296 rows x 3 columns]"
      ]
     },
     "execution_count": 57,
     "metadata": {},
     "output_type": "execute_result"
    }
   ],
   "source": [
    "crostab_part1"
   ]
  },
  {
   "cell_type": "code",
   "execution_count": null,
   "id": "dd777eac-2ce5-4815-9eb8-4aa48f80f62e",
   "metadata": {},
   "outputs": [],
   "source": []
  },
  {
   "cell_type": "code",
   "execution_count": null,
   "id": "5f5cec51-9e6b-48e9-b868-16979bb5d7a0",
   "metadata": {},
   "outputs": [],
   "source": []
  },
  {
   "cell_type": "code",
   "execution_count": 202,
   "id": "38cdf73f-fec3-4ec3-a798-b8402e447576",
   "metadata": {},
   "outputs": [],
   "source": [
    "#- Are there categories where being a best-seller is more prevalent?\n",
    "\n",
    "# yes, \n",
    "\n",
    "#Grocery\t                      9008     556     0.061723\n",
    "#Smart Home Security & Lighting\t   98\t   6\t   0.061224\n",
    "#Health & Personal Care\t          9017\t   552\t   0.061218"
   ]
  },
  {
   "cell_type": "code",
   "execution_count": null,
   "id": "bd77d42a-f3ea-4cd4-9dae-594127192fde",
   "metadata": {},
   "outputs": [],
   "source": []
  },
  {
   "cell_type": "code",
   "execution_count": null,
   "id": "8d476b0a-7f7f-4339-b763-f893c97953a0",
   "metadata": {},
   "outputs": [],
   "source": []
  },
  {
   "cell_type": "markdown",
   "id": "15b01bae-391d-4521-b97d-371cad0e6cc2",
   "metadata": {},
   "source": [
    "### 2. Statistical Tests:\n",
    "\n",
    "- Conduct a Chi-square test to determine if the best-seller distribution is independent of the product category.\n",
    "- Compute Cramér's V to understand the strength of association between best-seller status and category."
   ]
  },
  {
   "cell_type": "code",
   "execution_count": 119,
   "id": "72dfc804-87c6-4202-9d2e-34c30cc95209",
   "metadata": {},
   "outputs": [],
   "source": [
    "df_statistical_2 = df.copy()"
   ]
  },
  {
   "cell_type": "code",
   "execution_count": 121,
   "id": "2298810a-0d81-4aea-bffc-e4a45d7098a4",
   "metadata": {},
   "outputs": [
    {
     "data": {
      "text/html": [
       "<div>\n",
       "<style scoped>\n",
       "    .dataframe tbody tr th:only-of-type {\n",
       "        vertical-align: middle;\n",
       "    }\n",
       "\n",
       "    .dataframe tbody tr th {\n",
       "        vertical-align: top;\n",
       "    }\n",
       "\n",
       "    .dataframe thead th {\n",
       "        text-align: right;\n",
       "    }\n",
       "</style>\n",
       "<table border=\"1\" class=\"dataframe\">\n",
       "  <thead>\n",
       "    <tr style=\"text-align: right;\">\n",
       "      <th></th>\n",
       "      <th>uid</th>\n",
       "      <th>asin</th>\n",
       "      <th>title</th>\n",
       "      <th>stars</th>\n",
       "      <th>reviews</th>\n",
       "      <th>price</th>\n",
       "      <th>isBestSeller</th>\n",
       "      <th>boughtInLastMonth</th>\n",
       "      <th>category</th>\n",
       "    </tr>\n",
       "  </thead>\n",
       "  <tbody>\n",
       "    <tr>\n",
       "      <th>0</th>\n",
       "      <td>1</td>\n",
       "      <td>B09B96TG33</td>\n",
       "      <td>Echo Dot (5th generation, 2022 release) | Big ...</td>\n",
       "      <td>4.7</td>\n",
       "      <td>15308</td>\n",
       "      <td>21.99</td>\n",
       "      <td>False</td>\n",
       "      <td>0</td>\n",
       "      <td>Hi-Fi Speakers</td>\n",
       "    </tr>\n",
       "    <tr>\n",
       "      <th>1</th>\n",
       "      <td>2</td>\n",
       "      <td>B01HTH3C8S</td>\n",
       "      <td>Anker Soundcore mini, Super-Portable Bluetooth...</td>\n",
       "      <td>4.7</td>\n",
       "      <td>98099</td>\n",
       "      <td>23.99</td>\n",
       "      <td>True</td>\n",
       "      <td>0</td>\n",
       "      <td>Hi-Fi Speakers</td>\n",
       "    </tr>\n",
       "  </tbody>\n",
       "</table>\n",
       "</div>"
      ],
      "text/plain": [
       "   uid        asin                                              title  stars  \\\n",
       "0    1  B09B96TG33  Echo Dot (5th generation, 2022 release) | Big ...    4.7   \n",
       "1    2  B01HTH3C8S  Anker Soundcore mini, Super-Portable Bluetooth...    4.7   \n",
       "\n",
       "   reviews  price  isBestSeller  boughtInLastMonth        category  \n",
       "0    15308  21.99         False                  0  Hi-Fi Speakers  \n",
       "1    98099  23.99          True                  0  Hi-Fi Speakers  "
      ]
     },
     "execution_count": 121,
     "metadata": {},
     "output_type": "execute_result"
    }
   ],
   "source": [
    "df_statistical_2.head(2)"
   ]
  },
  {
   "cell_type": "code",
   "execution_count": 126,
   "id": "48d90c67-3549-481a-9877-e548125320c3",
   "metadata": {},
   "outputs": [],
   "source": [
    "from scipy.stats import chi2_contingency"
   ]
  },
  {
   "cell_type": "code",
   "execution_count": 136,
   "id": "4e41c709-0379-499c-9c33-7e58a170fca5",
   "metadata": {},
   "outputs": [],
   "source": [
    "## Chi-square test for 'MSZoning' and 'SaleCondition'\n",
    "#chi2_stats, chi2_pvalue, _, _ = chi2_contingency(crosstab_result)"
   ]
  },
  {
   "cell_type": "code",
   "execution_count": 130,
   "id": "742d62da-ebef-49f0-92b9-83c11c106418",
   "metadata": {},
   "outputs": [],
   "source": [
    "chi2_stats, chi2_pvalue, _, _= chi2_contingency(crostab_part1)"
   ]
  },
  {
   "cell_type": "code",
   "execution_count": 204,
   "id": "2b3f8534-0e1f-4ae6-8fac-53261debed2f",
   "metadata": {},
   "outputs": [
    {
     "data": {
      "text/plain": [
       "0.0"
      ]
     },
     "execution_count": 204,
     "metadata": {},
     "output_type": "execute_result"
    }
   ],
   "source": [
    "chi2_pvalue   #if p.value - 0,05 reject h0  and accept h1, if its more than 0,05 we can not reject H0."
   ]
  },
  {
   "cell_type": "code",
   "execution_count": null,
   "id": "9dff57f8-12f3-4795-91a2-69c9f88f31fe",
   "metadata": {},
   "outputs": [],
   "source": []
  },
  {
   "cell_type": "code",
   "execution_count": 207,
   "id": "f1c29d2d-1704-4aec-be13-eb11e3596e8d",
   "metadata": {},
   "outputs": [],
   "source": [
    "#Conduct a Chi-square test to determine if the best-seller distribution is independent of the product category.\n",
    "\n",
    "\n",
    "# H0 category and best seller are independent \n",
    "# h1 category and best seller are dependent"
   ]
  },
  {
   "cell_type": "code",
   "execution_count": null,
   "id": "6c5c6f04-da90-4b61-8e00-586c1fa821db",
   "metadata": {},
   "outputs": [],
   "source": []
  },
  {
   "cell_type": "code",
   "execution_count": 140,
   "id": "d24803d5-ce56-49f2-9886-44d73fdd6015",
   "metadata": {},
   "outputs": [
    {
     "data": {
      "text/html": [
       "<div>\n",
       "<style scoped>\n",
       "    .dataframe tbody tr th:only-of-type {\n",
       "        vertical-align: middle;\n",
       "    }\n",
       "\n",
       "    .dataframe tbody tr th {\n",
       "        vertical-align: top;\n",
       "    }\n",
       "\n",
       "    .dataframe thead th {\n",
       "        text-align: right;\n",
       "    }\n",
       "</style>\n",
       "<table border=\"1\" class=\"dataframe\">\n",
       "  <thead>\n",
       "    <tr style=\"text-align: right;\">\n",
       "      <th>isBestSeller</th>\n",
       "      <th>False</th>\n",
       "      <th>True</th>\n",
       "      <th>percentage</th>\n",
       "    </tr>\n",
       "    <tr>\n",
       "      <th>category</th>\n",
       "      <th></th>\n",
       "      <th></th>\n",
       "      <th></th>\n",
       "    </tr>\n",
       "  </thead>\n",
       "  <tbody>\n",
       "    <tr>\n",
       "      <th>Grocery</th>\n",
       "      <td>9008</td>\n",
       "      <td>556</td>\n",
       "      <td>0.061723</td>\n",
       "    </tr>\n",
       "    <tr>\n",
       "      <th>Smart Home Security &amp; Lighting</th>\n",
       "      <td>98</td>\n",
       "      <td>6</td>\n",
       "      <td>0.061224</td>\n",
       "    </tr>\n",
       "    <tr>\n",
       "      <th>Health &amp; Personal Care</th>\n",
       "      <td>9017</td>\n",
       "      <td>552</td>\n",
       "      <td>0.061218</td>\n",
       "    </tr>\n",
       "    <tr>\n",
       "      <th>Mobile Phone Accessories</th>\n",
       "      <td>248</td>\n",
       "      <td>11</td>\n",
       "      <td>0.044355</td>\n",
       "    </tr>\n",
       "    <tr>\n",
       "      <th>Power &amp; Hand Tools</th>\n",
       "      <td>8353</td>\n",
       "      <td>306</td>\n",
       "      <td>0.036634</td>\n",
       "    </tr>\n",
       "    <tr>\n",
       "      <th>Billiard, Snooker &amp; Pool</th>\n",
       "      <td>241</td>\n",
       "      <td>8</td>\n",
       "      <td>0.033195</td>\n",
       "    </tr>\n",
       "  </tbody>\n",
       "</table>\n",
       "</div>"
      ],
      "text/plain": [
       "isBestSeller                    False  True  percentage\n",
       "category                                               \n",
       "Grocery                          9008   556    0.061723\n",
       "Smart Home Security & Lighting     98     6    0.061224\n",
       "Health & Personal Care           9017   552    0.061218\n",
       "Mobile Phone Accessories          248    11    0.044355\n",
       "Power & Hand Tools               8353   306    0.036634\n",
       "Billiard, Snooker & Pool          241     8    0.033195"
      ]
     },
     "execution_count": 140,
     "metadata": {},
     "output_type": "execute_result"
    }
   ],
   "source": [
    "crostab_part1.head(6)"
   ]
  },
  {
   "cell_type": "code",
   "execution_count": null,
   "id": "0c59d43a-892e-46bf-b29b-1bd9662c9120",
   "metadata": {},
   "outputs": [],
   "source": []
  },
  {
   "cell_type": "code",
   "execution_count": null,
   "id": "76fe8931-830f-49d7-bf36-3b84bd61fcd5",
   "metadata": {},
   "outputs": [],
   "source": []
  },
  {
   "cell_type": "code",
   "execution_count": null,
   "id": "2d90f2d4-5c5b-4798-8740-fb9ce0308fac",
   "metadata": {},
   "outputs": [],
   "source": []
  },
  {
   "cell_type": "code",
   "execution_count": 191,
   "id": "0e8938b5-77aa-4635-8861-0d206c82842b",
   "metadata": {},
   "outputs": [],
   "source": [
    "# Compute Cramér's V to understand the strength of association between best-seller status and category."
   ]
  },
  {
   "cell_type": "code",
   "execution_count": null,
   "id": "45a209ad-982c-41ea-95e9-af864b97fa03",
   "metadata": {},
   "outputs": [],
   "source": []
  },
  {
   "cell_type": "code",
   "execution_count": null,
   "id": "e4c47e11-6dc9-427e-ab8d-703666ea3ab7",
   "metadata": {},
   "outputs": [],
   "source": []
  },
  {
   "cell_type": "code",
   "execution_count": 165,
   "id": "0607847f-47a6-4c52-bcb5-184005b7ec96",
   "metadata": {},
   "outputs": [],
   "source": [
    "from scipy.stats.contingency import association"
   ]
  },
  {
   "cell_type": "code",
   "execution_count": 167,
   "id": "cddb7c36-d48a-4e47-a46f-b8ca8f21fb3b",
   "metadata": {},
   "outputs": [],
   "source": [
    "crostab_part2 = crostab_part1.copy()"
   ]
  },
  {
   "cell_type": "code",
   "execution_count": 184,
   "id": "1c2691e4-a95e-43ad-a8f1-e67e259726f0",
   "metadata": {},
   "outputs": [],
   "source": [
    "# cramer works only with intergers  (percentage was floats)"
   ]
  },
  {
   "cell_type": "code",
   "execution_count": 171,
   "id": "10a0e090-202c-4f90-9c62-df73229f9208",
   "metadata": {},
   "outputs": [],
   "source": [
    "crostab_part2[\"percentage\"] =  (crostab_part2[\"percentage\"] * 100)"
   ]
  },
  {
   "cell_type": "code",
   "execution_count": 175,
   "id": "8a4277c2-ade5-417b-a988-b5d1acb6a87a",
   "metadata": {},
   "outputs": [],
   "source": [
    "crostab_part2[\"percentage\"] = crostab_part2[\"percentage\"].astype(int)"
   ]
  },
  {
   "cell_type": "code",
   "execution_count": 189,
   "id": "d7add8ec-a49d-4ef8-b5fd-b4b1701248d4",
   "metadata": {},
   "outputs": [
    {
     "data": {
      "text/html": [
       "<div>\n",
       "<style scoped>\n",
       "    .dataframe tbody tr th:only-of-type {\n",
       "        vertical-align: middle;\n",
       "    }\n",
       "\n",
       "    .dataframe tbody tr th {\n",
       "        vertical-align: top;\n",
       "    }\n",
       "\n",
       "    .dataframe thead th {\n",
       "        text-align: right;\n",
       "    }\n",
       "</style>\n",
       "<table border=\"1\" class=\"dataframe\">\n",
       "  <thead>\n",
       "    <tr style=\"text-align: right;\">\n",
       "      <th>isBestSeller</th>\n",
       "      <th>False</th>\n",
       "      <th>True</th>\n",
       "      <th>percentage</th>\n",
       "    </tr>\n",
       "    <tr>\n",
       "      <th>category</th>\n",
       "      <th></th>\n",
       "      <th></th>\n",
       "      <th></th>\n",
       "    </tr>\n",
       "  </thead>\n",
       "  <tbody>\n",
       "    <tr>\n",
       "      <th>Grocery</th>\n",
       "      <td>9008</td>\n",
       "      <td>556</td>\n",
       "      <td>6</td>\n",
       "    </tr>\n",
       "    <tr>\n",
       "      <th>Smart Home Security &amp; Lighting</th>\n",
       "      <td>98</td>\n",
       "      <td>6</td>\n",
       "      <td>6</td>\n",
       "    </tr>\n",
       "  </tbody>\n",
       "</table>\n",
       "</div>"
      ],
      "text/plain": [
       "isBestSeller                    False  True  percentage\n",
       "category                                               \n",
       "Grocery                          9008   556           6\n",
       "Smart Home Security & Lighting     98     6           6"
      ]
     },
     "execution_count": 189,
     "metadata": {},
     "output_type": "execute_result"
    }
   ],
   "source": [
    "crostab_part2.head(2)"
   ]
  },
  {
   "cell_type": "code",
   "execution_count": 210,
   "id": "0a331d7f-0ec9-43e1-8dbc-5bc64344bf77",
   "metadata": {},
   "outputs": [
    {
     "data": {
      "text/plain": [
       "0.10729118323450833"
      ]
     },
     "execution_count": 210,
     "metadata": {},
     "output_type": "execute_result"
    }
   ],
   "source": [
    "association(crostab_part2, method='cramer')"
   ]
  },
  {
   "cell_type": "code",
   "execution_count": null,
   "id": "59742dab-d09c-4355-9c94-120889b33246",
   "metadata": {},
   "outputs": [],
   "source": []
  },
  {
   "cell_type": "code",
   "execution_count": null,
   "id": "6350c30a-bcf8-48d9-9e38-b4d0de20cc60",
   "metadata": {},
   "outputs": [],
   "source": []
  },
  {
   "cell_type": "code",
   "execution_count": 213,
   "id": "005ef4c0-7bb4-4c29-a99e-3a31e975f4cf",
   "metadata": {},
   "outputs": [],
   "source": [
    "## Compute Cramér's V to understand the strength of association between best-seller status and category.\n",
    "\n",
    "# the association is weak"
   ]
  },
  {
   "cell_type": "code",
   "execution_count": null,
   "id": "2ef76a26-2415-49c3-bad2-08ea83462396",
   "metadata": {},
   "outputs": [],
   "source": []
  },
  {
   "cell_type": "markdown",
   "id": "f8f6576d-3424-4da2-85c7-fdf4c6e4a0fd",
   "metadata": {},
   "source": [
    "### 3.Visualizations:\n",
    "\n",
    "- Visualize the relationship between product categories and the best-seller status using a stacked bar chart.\n"
   ]
  },
  {
   "cell_type": "code",
   "execution_count": 234,
   "id": "3f3bdeb4-5398-4054-a71e-ed1daaf25fc7",
   "metadata": {},
   "outputs": [
    {
     "data": {
      "text/html": [
       "<div>\n",
       "<style scoped>\n",
       "    .dataframe tbody tr th:only-of-type {\n",
       "        vertical-align: middle;\n",
       "    }\n",
       "\n",
       "    .dataframe tbody tr th {\n",
       "        vertical-align: top;\n",
       "    }\n",
       "\n",
       "    .dataframe thead th {\n",
       "        text-align: right;\n",
       "    }\n",
       "</style>\n",
       "<table border=\"1\" class=\"dataframe\">\n",
       "  <thead>\n",
       "    <tr style=\"text-align: right;\">\n",
       "      <th>isBestSeller</th>\n",
       "      <th>False</th>\n",
       "      <th>True</th>\n",
       "      <th>percentage</th>\n",
       "    </tr>\n",
       "    <tr>\n",
       "      <th>category</th>\n",
       "      <th></th>\n",
       "      <th></th>\n",
       "      <th></th>\n",
       "    </tr>\n",
       "  </thead>\n",
       "  <tbody>\n",
       "    <tr>\n",
       "      <th>Grocery</th>\n",
       "      <td>9008</td>\n",
       "      <td>556</td>\n",
       "      <td>0.061723</td>\n",
       "    </tr>\n",
       "    <tr>\n",
       "      <th>Smart Home Security &amp; Lighting</th>\n",
       "      <td>98</td>\n",
       "      <td>6</td>\n",
       "      <td>0.061224</td>\n",
       "    </tr>\n",
       "    <tr>\n",
       "      <th>Health &amp; Personal Care</th>\n",
       "      <td>9017</td>\n",
       "      <td>552</td>\n",
       "      <td>0.061218</td>\n",
       "    </tr>\n",
       "    <tr>\n",
       "      <th>Mobile Phone Accessories</th>\n",
       "      <td>248</td>\n",
       "      <td>11</td>\n",
       "      <td>0.044355</td>\n",
       "    </tr>\n",
       "    <tr>\n",
       "      <th>Power &amp; Hand Tools</th>\n",
       "      <td>8353</td>\n",
       "      <td>306</td>\n",
       "      <td>0.036634</td>\n",
       "    </tr>\n",
       "    <tr>\n",
       "      <th>Billiard, Snooker &amp; Pool</th>\n",
       "      <td>241</td>\n",
       "      <td>8</td>\n",
       "      <td>0.033195</td>\n",
       "    </tr>\n",
       "    <tr>\n",
       "      <th>Pet Supplies</th>\n",
       "      <td>9152</td>\n",
       "      <td>285</td>\n",
       "      <td>0.031141</td>\n",
       "    </tr>\n",
       "  </tbody>\n",
       "</table>\n",
       "</div>"
      ],
      "text/plain": [
       "isBestSeller                    False  True  percentage\n",
       "category                                               \n",
       "Grocery                          9008   556    0.061723\n",
       "Smart Home Security & Lighting     98     6    0.061224\n",
       "Health & Personal Care           9017   552    0.061218\n",
       "Mobile Phone Accessories          248    11    0.044355\n",
       "Power & Hand Tools               8353   306    0.036634\n",
       "Billiard, Snooker & Pool          241     8    0.033195\n",
       "Pet Supplies                     9152   285    0.031141"
      ]
     },
     "execution_count": 234,
     "metadata": {},
     "output_type": "execute_result"
    }
   ],
   "source": [
    "crostab_part1.head(7)"
   ]
  },
  {
   "cell_type": "code",
   "execution_count": null,
   "id": "1b3019e3-cc64-4330-b2e9-111a5cbf2236",
   "metadata": {},
   "outputs": [],
   "source": []
  },
  {
   "cell_type": "code",
   "execution_count": null,
   "id": "97161c15-6b14-4a9a-925f-8a9412fdaaaa",
   "metadata": {},
   "outputs": [],
   "source": [
    "crostab_part1"
   ]
  },
  {
   "cell_type": "code",
   "execution_count": 262,
   "id": "457c8a57-56eb-49f0-9afd-fd83772574a0",
   "metadata": {},
   "outputs": [
    {
     "data": {
      "image/png": "[encoded data removed]",
      "text/plain": [
       "<Figure size 640x480 with 1 Axes>"
      ]
     },
     "metadata": {},
     "output_type": "display_data"
    }
   ],
   "source": [
    "c33de = crostab_part1.copy()\n",
    "c33de = c33de[:7] \n",
    "c33de.plot(kind='bar', stacked=True)\n",
    "plt.show()"
   ]
  },
  {
   "cell_type": "code",
   "execution_count": 278,
   "id": "354d0523-2ea2-4f29-880e-d3b5f7759756",
   "metadata": {},
   "outputs": [
    {
     "data": {
      "image/png": "[encoded data removed]",
      "text/plain": [
       "<Figure size 640x480 with 1 Axes>"
      ]
     },
     "metadata": {},
     "output_type": "display_data"
    }
   ],
   "source": [
    "c33de = crostab_part1.copy()\n",
    "c33de = c33de[:7] \n",
    "c33de[\"percentage\"].plot(kind='bar', stacked=True)\n",
    "plt.show()"
   ]
  },
  {
   "cell_type": "code",
   "execution_count": null,
   "id": "9fc078d7-3462-40d0-a8c7-0a95259f3b76",
   "metadata": {},
   "outputs": [],
   "source": [
    " "
   ]
  },
  {
   "cell_type": "code",
   "execution_count": null,
   "id": "7afd3d74-7790-4af6-b254-4fdf14ddf833",
   "metadata": {},
   "outputs": [],
   "source": []
  },
  {
   "cell_type": "markdown",
   "id": "22f13487-6a2d-4941-8b0f-53c8ac7c2971",
   "metadata": {},
   "source": [
    "## Part 2: Exploring Product Prices and Ratings Across Categories and Brands\n",
    "- Objective: Investigate how different product categories influence product price"
   ]
  },
  {
   "cell_type": "markdown",
   "id": "97f71c49-c2f2-46b8-adf4-cb3ba26806fc",
   "metadata": {},
   "source": [
    "### 0. Preliminary Step: Remove outliers in product prices.\n",
    "\n",
    "- For this purpose, we can use the IQR (Interquartile Range) method. Products priced below the first quartile minus 1.5 times the IQR or above the third quartile plus 1.5 times the IQR will be considered outliers and removed from the dataset. The next steps will be done with the dataframe without outliers.\n",
    "\n",
    "- Hint: you can check the last Check For Understanding at the end of the lesson EDA Bivariate Analysis for a hint on how to do this."
   ]
  },
  {
   "cell_type": "code",
   "execution_count": 388,
   "id": "f00a0f43-d5ca-4fdf-ae28-677555f37289",
   "metadata": {},
   "outputs": [],
   "source": [
    "part2_exploring = df.copy()"
   ]
  },
  {
   "cell_type": "code",
   "execution_count": 390,
   "id": "59848508-f180-4d36-be7f-decd3e2b9d9f",
   "metadata": {},
   "outputs": [
    {
     "data": {
      "text/html": [
       "<div>\n",
       "<style scoped>\n",
       "    .dataframe tbody tr th:only-of-type {\n",
       "        vertical-align: middle;\n",
       "    }\n",
       "\n",
       "    .dataframe tbody tr th {\n",
       "        vertical-align: top;\n",
       "    }\n",
       "\n",
       "    .dataframe thead th {\n",
       "        text-align: right;\n",
       "    }\n",
       "</style>\n",
       "<table border=\"1\" class=\"dataframe\">\n",
       "  <thead>\n",
       "    <tr style=\"text-align: right;\">\n",
       "      <th></th>\n",
       "      <th>uid</th>\n",
       "      <th>asin</th>\n",
       "      <th>title</th>\n",
       "      <th>stars</th>\n",
       "      <th>reviews</th>\n",
       "      <th>price</th>\n",
       "      <th>isBestSeller</th>\n",
       "      <th>boughtInLastMonth</th>\n",
       "      <th>category</th>\n",
       "    </tr>\n",
       "  </thead>\n",
       "  <tbody>\n",
       "    <tr>\n",
       "      <th>0</th>\n",
       "      <td>1</td>\n",
       "      <td>B09B96TG33</td>\n",
       "      <td>Echo Dot (5th generation, 2022 release) | Big ...</td>\n",
       "      <td>4.7</td>\n",
       "      <td>15308</td>\n",
       "      <td>21.99</td>\n",
       "      <td>False</td>\n",
       "      <td>0</td>\n",
       "      <td>Hi-Fi Speakers</td>\n",
       "    </tr>\n",
       "    <tr>\n",
       "      <th>1</th>\n",
       "      <td>2</td>\n",
       "      <td>B01HTH3C8S</td>\n",
       "      <td>Anker Soundcore mini, Super-Portable Bluetooth...</td>\n",
       "      <td>4.7</td>\n",
       "      <td>98099</td>\n",
       "      <td>23.99</td>\n",
       "      <td>True</td>\n",
       "      <td>0</td>\n",
       "      <td>Hi-Fi Speakers</td>\n",
       "    </tr>\n",
       "  </tbody>\n",
       "</table>\n",
       "</div>"
      ],
      "text/plain": [
       "   uid        asin                                              title  stars  \\\n",
       "0    1  B09B96TG33  Echo Dot (5th generation, 2022 release) | Big ...    4.7   \n",
       "1    2  B01HTH3C8S  Anker Soundcore mini, Super-Portable Bluetooth...    4.7   \n",
       "\n",
       "   reviews  price  isBestSeller  boughtInLastMonth        category  \n",
       "0    15308  21.99         False                  0  Hi-Fi Speakers  \n",
       "1    98099  23.99          True                  0  Hi-Fi Speakers  "
      ]
     },
     "execution_count": 390,
     "metadata": {},
     "output_type": "execute_result"
    }
   ],
   "source": [
    "part2_exploring.head(2)"
   ]
  },
  {
   "cell_type": "code",
   "execution_count": 392,
   "id": "f5b759d4-004f-4a24-bcf8-884b1e5e1e93",
   "metadata": {},
   "outputs": [],
   "source": [
    "part2_exploring = part2_exploring[[\"category\",\"price\"]]"
   ]
  },
  {
   "cell_type": "code",
   "execution_count": 394,
   "id": "f9a6c874-21a0-4139-8298-808f331068d1",
   "metadata": {},
   "outputs": [
    {
     "data": {
      "text/plain": [
       "(2443651, 2)"
      ]
     },
     "execution_count": 394,
     "metadata": {},
     "output_type": "execute_result"
    }
   ],
   "source": [
    "part2_exploring.shape #with outliers #2443651        without  outliers #2115963  "
   ]
  },
  {
   "cell_type": "code",
   "execution_count": 396,
   "id": "3236dbe0-6919-4d01-8347-dbb291822793",
   "metadata": {},
   "outputs": [
    {
     "data": {
      "text/html": [
       "<div>\n",
       "<style scoped>\n",
       "    .dataframe tbody tr th:only-of-type {\n",
       "        vertical-align: middle;\n",
       "    }\n",
       "\n",
       "    .dataframe tbody tr th {\n",
       "        vertical-align: top;\n",
       "    }\n",
       "\n",
       "    .dataframe thead th {\n",
       "        text-align: right;\n",
       "    }\n",
       "</style>\n",
       "<table border=\"1\" class=\"dataframe\">\n",
       "  <thead>\n",
       "    <tr style=\"text-align: right;\">\n",
       "      <th></th>\n",
       "      <th>category</th>\n",
       "      <th>price</th>\n",
       "    </tr>\n",
       "  </thead>\n",
       "  <tbody>\n",
       "    <tr>\n",
       "      <th>0</th>\n",
       "      <td>Hi-Fi Speakers</td>\n",
       "      <td>21.99</td>\n",
       "    </tr>\n",
       "    <tr>\n",
       "      <th>1</th>\n",
       "      <td>Hi-Fi Speakers</td>\n",
       "      <td>23.99</td>\n",
       "    </tr>\n",
       "    <tr>\n",
       "      <th>2</th>\n",
       "      <td>Hi-Fi Speakers</td>\n",
       "      <td>21.99</td>\n",
       "    </tr>\n",
       "  </tbody>\n",
       "</table>\n",
       "</div>"
      ],
      "text/plain": [
       "         category  price\n",
       "0  Hi-Fi Speakers  21.99\n",
       "1  Hi-Fi Speakers  23.99\n",
       "2  Hi-Fi Speakers  21.99"
      ]
     },
     "execution_count": 396,
     "metadata": {},
     "output_type": "execute_result"
    }
   ],
   "source": [
    "part2_exploring.head(3)"
   ]
  },
  {
   "cell_type": "code",
   "execution_count": null,
   "id": "12e492cb-3228-47f0-a4c5-9ed7ad8f07d5",
   "metadata": {},
   "outputs": [],
   "source": []
  },
  {
   "cell_type": "code",
   "execution_count": 399,
   "id": "ccb5f735-b2fb-4f2f-b238-466a0cc0f781",
   "metadata": {},
   "outputs": [],
   "source": [
    "test_part2_Ex = part2_exploring.describe()\n",
    "test_part2_Ex = pd.DataFrame(test_part2_Ex)"
   ]
  },
  {
   "cell_type": "code",
   "execution_count": 401,
   "id": "637d037d-6fae-45c5-879f-fc06b666ee0e",
   "metadata": {},
   "outputs": [],
   "source": [
    "test_part2_Ex[\"price\"] = test_part2_Ex[\"price\"].round(2)\n"
   ]
  },
  {
   "cell_type": "code",
   "execution_count": 403,
   "id": "849d9b96-cf3f-431c-ac22-5fcc99712998",
   "metadata": {},
   "outputs": [
    {
     "data": {
      "text/html": [
       "<div>\n",
       "<style scoped>\n",
       "    .dataframe tbody tr th:only-of-type {\n",
       "        vertical-align: middle;\n",
       "    }\n",
       "\n",
       "    .dataframe tbody tr th {\n",
       "        vertical-align: top;\n",
       "    }\n",
       "\n",
       "    .dataframe thead th {\n",
       "        text-align: right;\n",
       "    }\n",
       "</style>\n",
       "<table border=\"1\" class=\"dataframe\">\n",
       "  <thead>\n",
       "    <tr style=\"text-align: right;\">\n",
       "      <th></th>\n",
       "      <th>price</th>\n",
       "    </tr>\n",
       "  </thead>\n",
       "  <tbody>\n",
       "    <tr>\n",
       "      <th>count</th>\n",
       "      <td>2443651.00</td>\n",
       "    </tr>\n",
       "    <tr>\n",
       "      <th>mean</th>\n",
       "      <td>89.24</td>\n",
       "    </tr>\n",
       "    <tr>\n",
       "      <th>std</th>\n",
       "      <td>345.61</td>\n",
       "    </tr>\n",
       "    <tr>\n",
       "      <th>min</th>\n",
       "      <td>0.00</td>\n",
       "    </tr>\n",
       "    <tr>\n",
       "      <th>25%</th>\n",
       "      <td>9.99</td>\n",
       "    </tr>\n",
       "    <tr>\n",
       "      <th>50%</th>\n",
       "      <td>19.09</td>\n",
       "    </tr>\n",
       "    <tr>\n",
       "      <th>75%</th>\n",
       "      <td>45.99</td>\n",
       "    </tr>\n",
       "    <tr>\n",
       "      <th>max</th>\n",
       "      <td>100000.00</td>\n",
       "    </tr>\n",
       "  </tbody>\n",
       "</table>\n",
       "</div>"
      ],
      "text/plain": [
       "            price\n",
       "count  2443651.00\n",
       "mean        89.24\n",
       "std        345.61\n",
       "min          0.00\n",
       "25%          9.99\n",
       "50%         19.09\n",
       "75%         45.99\n",
       "max     100000.00"
      ]
     },
     "execution_count": 403,
     "metadata": {},
     "output_type": "execute_result"
    }
   ],
   "source": [
    "test_part2_Ex"
   ]
  },
  {
   "cell_type": "code",
   "execution_count": 405,
   "id": "d7f4bb0f-7649-4d9b-a3a2-14acabc0bc9a",
   "metadata": {},
   "outputs": [],
   "source": [
    "q1 = 9.99\n",
    "q2 = 19.09\n",
    "q3 = 45.99"
   ]
  },
  {
   "cell_type": "code",
   "execution_count": 407,
   "id": "42dd97b2-485e-433c-85b4-2132403319c3",
   "metadata": {},
   "outputs": [
    {
     "data": {
      "text/plain": [
       "36.0"
      ]
     },
     "execution_count": 407,
     "metadata": {},
     "output_type": "execute_result"
    }
   ],
   "source": [
    "iqr = q3 - q1   #interquartil range\n",
    "iqr"
   ]
  },
  {
   "cell_type": "code",
   "execution_count": 409,
   "id": "8dbf87e4-2103-4043-a297-db367d6febbf",
   "metadata": {},
   "outputs": [
    {
     "data": {
      "text/plain": [
       "-44.01"
      ]
     },
     "execution_count": 409,
     "metadata": {},
     "output_type": "execute_result"
    }
   ],
   "source": [
    "#lower limit \n",
    "lower_limit = q1 - 1.5 * iqr\n",
    "lower_limit"
   ]
  },
  {
   "cell_type": "code",
   "execution_count": 411,
   "id": "c911f90f-e95a-4ad4-8f48-2200f8082e56",
   "metadata": {},
   "outputs": [
    {
     "data": {
      "text/plain": [
       "99.99000000000001"
      ]
     },
     "execution_count": 411,
     "metadata": {},
     "output_type": "execute_result"
    }
   ],
   "source": [
    "#max limit \n",
    "max_limit = q3 + 1.5 * iqr\n",
    "max_limit"
   ]
  },
  {
   "cell_type": "code",
   "execution_count": 413,
   "id": "265b07b4-426f-4264-ab65-8e80f6af832f",
   "metadata": {},
   "outputs": [],
   "source": [
    "# std ** 2\n",
    "varianza_p = 345.61 ** 2"
   ]
  },
  {
   "cell_type": "code",
   "execution_count": 415,
   "id": "49b8fa53-3cb6-437e-99bb-60f687231d93",
   "metadata": {},
   "outputs": [
    {
     "data": {
      "text/plain": [
       "100000.0"
      ]
     },
     "execution_count": 415,
     "metadata": {},
     "output_type": "execute_result"
    }
   ],
   "source": [
    "part2_exploring[\"price\"].max()"
   ]
  },
  {
   "cell_type": "code",
   "execution_count": null,
   "id": "185f7053-983e-45dc-8f7a-3a464685af56",
   "metadata": {},
   "outputs": [],
   "source": []
  },
  {
   "cell_type": "code",
   "execution_count": 423,
   "id": "cd673e88-2f31-4bc0-ba27-debd937a1027",
   "metadata": {},
   "outputs": [
    {
     "data": {
      "text/html": [
       "<div>\n",
       "<style scoped>\n",
       "    .dataframe tbody tr th:only-of-type {\n",
       "        vertical-align: middle;\n",
       "    }\n",
       "\n",
       "    .dataframe tbody tr th {\n",
       "        vertical-align: top;\n",
       "    }\n",
       "\n",
       "    .dataframe thead th {\n",
       "        text-align: right;\n",
       "    }\n",
       "</style>\n",
       "<table border=\"1\" class=\"dataframe\">\n",
       "  <thead>\n",
       "    <tr style=\"text-align: right;\">\n",
       "      <th></th>\n",
       "      <th>category</th>\n",
       "      <th>price</th>\n",
       "    </tr>\n",
       "  </thead>\n",
       "  <tbody>\n",
       "    <tr>\n",
       "      <th>0</th>\n",
       "      <td>Hi-Fi Speakers</td>\n",
       "      <td>21.99</td>\n",
       "    </tr>\n",
       "    <tr>\n",
       "      <th>1</th>\n",
       "      <td>Hi-Fi Speakers</td>\n",
       "      <td>23.99</td>\n",
       "    </tr>\n",
       "    <tr>\n",
       "      <th>2</th>\n",
       "      <td>Hi-Fi Speakers</td>\n",
       "      <td>21.99</td>\n",
       "    </tr>\n",
       "    <tr>\n",
       "      <th>3</th>\n",
       "      <td>Hi-Fi Speakers</td>\n",
       "      <td>31.99</td>\n",
       "    </tr>\n",
       "    <tr>\n",
       "      <th>4</th>\n",
       "      <td>Hi-Fi Speakers</td>\n",
       "      <td>17.99</td>\n",
       "    </tr>\n",
       "    <tr>\n",
       "      <th>...</th>\n",
       "      <td>...</td>\n",
       "      <td>...</td>\n",
       "    </tr>\n",
       "    <tr>\n",
       "      <th>2443646</th>\n",
       "      <td>Motorbike Clothing</td>\n",
       "      <td>22.34</td>\n",
       "    </tr>\n",
       "    <tr>\n",
       "      <th>2443647</th>\n",
       "      <td>Motorbike Clothing</td>\n",
       "      <td>97.99</td>\n",
       "    </tr>\n",
       "    <tr>\n",
       "      <th>2443648</th>\n",
       "      <td>Motorbike Clothing</td>\n",
       "      <td>52.99</td>\n",
       "    </tr>\n",
       "    <tr>\n",
       "      <th>2443649</th>\n",
       "      <td>Motorbike Clothing</td>\n",
       "      <td>79.99</td>\n",
       "    </tr>\n",
       "    <tr>\n",
       "      <th>2443650</th>\n",
       "      <td>Motorbike Clothing</td>\n",
       "      <td>53.99</td>\n",
       "    </tr>\n",
       "  </tbody>\n",
       "</table>\n",
       "<p>2115963 rows × 2 columns</p>\n",
       "</div>"
      ],
      "text/plain": [
       "                   category  price\n",
       "0            Hi-Fi Speakers  21.99\n",
       "1            Hi-Fi Speakers  23.99\n",
       "2            Hi-Fi Speakers  21.99\n",
       "3            Hi-Fi Speakers  31.99\n",
       "4            Hi-Fi Speakers  17.99\n",
       "...                     ...    ...\n",
       "2443646  Motorbike Clothing  22.34\n",
       "2443647  Motorbike Clothing  97.99\n",
       "2443648  Motorbike Clothing  52.99\n",
       "2443649  Motorbike Clothing  79.99\n",
       "2443650  Motorbike Clothing  53.99\n",
       "\n",
       "[2115963 rows x 2 columns]"
      ]
     },
     "execution_count": 423,
     "metadata": {},
     "output_type": "execute_result"
    }
   ],
   "source": [
    "part2_exploring_no_outliers = part2_exploring[(part2_exploring[\"price\"] >= lower_limit) & (part2_exploring[\"price\"] <= max_limit)]\n",
    "\n",
    "\n",
    "part2_exploring_no_outliers"
   ]
  },
  {
   "cell_type": "code",
   "execution_count": 430,
   "id": "b81c556b-ab7d-41c6-9195-e001805d8dd1",
   "metadata": {},
   "outputs": [
    {
     "data": {
      "text/plain": [
       "99.99"
      ]
     },
     "execution_count": 430,
     "metadata": {},
     "output_type": "execute_result"
    }
   ],
   "source": [
    "part2_exploring_no_outliers[\"price\"].max()"
   ]
  },
  {
   "cell_type": "code",
   "execution_count": null,
   "id": "f1129546-8f26-4356-b80c-fa29c89c2f65",
   "metadata": {},
   "outputs": [],
   "source": []
  },
  {
   "cell_type": "code",
   "execution_count": null,
   "id": "125e80ed-d287-4a93-8fd6-53fb5f6384c3",
   "metadata": {},
   "outputs": [],
   "source": []
  },
  {
   "cell_type": "markdown",
   "id": "69d7b7fe-ed0d-4d9c-9deb-c95e30be454b",
   "metadata": {},
   "source": [
    "### 1. Violin Plots:\n",
    "\n",
    "- Use a violin plot to visualize the distribution of price across different product categories. Filter out the top 20 categories based on count for better visualization.\n",
    "- Which product category tends to have the highest median price? Don't filter here by top categories."
   ]
  },
  {
   "cell_type": "code",
   "execution_count": 475,
   "id": "93667a3d-8fef-441f-a662-c4604402578e",
   "metadata": {},
   "outputs": [
    {
     "data": {
      "text/html": [
       "<div>\n",
       "<style scoped>\n",
       "    .dataframe tbody tr th:only-of-type {\n",
       "        vertical-align: middle;\n",
       "    }\n",
       "\n",
       "    .dataframe tbody tr th {\n",
       "        vertical-align: top;\n",
       "    }\n",
       "\n",
       "    .dataframe thead th {\n",
       "        text-align: right;\n",
       "    }\n",
       "</style>\n",
       "<table border=\"1\" class=\"dataframe\">\n",
       "  <thead>\n",
       "    <tr style=\"text-align: right;\">\n",
       "      <th></th>\n",
       "      <th>uid</th>\n",
       "      <th>asin</th>\n",
       "      <th>title</th>\n",
       "      <th>stars</th>\n",
       "      <th>reviews</th>\n",
       "      <th>price</th>\n",
       "      <th>isBestSeller</th>\n",
       "      <th>boughtInLastMonth</th>\n",
       "      <th>category</th>\n",
       "    </tr>\n",
       "  </thead>\n",
       "  <tbody>\n",
       "    <tr>\n",
       "      <th>0</th>\n",
       "      <td>1</td>\n",
       "      <td>B09B96TG33</td>\n",
       "      <td>Echo Dot (5th generation, 2022 release) | Big ...</td>\n",
       "      <td>4.7</td>\n",
       "      <td>15308</td>\n",
       "      <td>21.99</td>\n",
       "      <td>False</td>\n",
       "      <td>0</td>\n",
       "      <td>Hi-Fi Speakers</td>\n",
       "    </tr>\n",
       "    <tr>\n",
       "      <th>1</th>\n",
       "      <td>2</td>\n",
       "      <td>B01HTH3C8S</td>\n",
       "      <td>Anker Soundcore mini, Super-Portable Bluetooth...</td>\n",
       "      <td>4.7</td>\n",
       "      <td>98099</td>\n",
       "      <td>23.99</td>\n",
       "      <td>True</td>\n",
       "      <td>0</td>\n",
       "      <td>Hi-Fi Speakers</td>\n",
       "    </tr>\n",
       "  </tbody>\n",
       "</table>\n",
       "</div>"
      ],
      "text/plain": [
       "   uid        asin                                              title  stars  \\\n",
       "0    1  B09B96TG33  Echo Dot (5th generation, 2022 release) | Big ...    4.7   \n",
       "1    2  B01HTH3C8S  Anker Soundcore mini, Super-Portable Bluetooth...    4.7   \n",
       "\n",
       "   reviews  price  isBestSeller  boughtInLastMonth        category  \n",
       "0    15308  21.99         False                  0  Hi-Fi Speakers  \n",
       "1    98099  23.99          True                  0  Hi-Fi Speakers  "
      ]
     },
     "execution_count": 475,
     "metadata": {},
     "output_type": "execute_result"
    }
   ],
   "source": [
    "df.head(2)"
   ]
  },
  {
   "cell_type": "code",
   "execution_count": 477,
   "id": "9cf90fec-bcda-4d07-9e03-9306091b0eb7",
   "metadata": {},
   "outputs": [],
   "source": [
    "violin_plots = part2_exploring_no_outliers.copy()"
   ]
  },
  {
   "cell_type": "code",
   "execution_count": null,
   "id": "3193c470-6ea8-4c0f-bff3-c8a9d6a5a614",
   "metadata": {},
   "outputs": [],
   "source": [
    " "
   ]
  },
  {
   "cell_type": "code",
   "execution_count": 480,
   "id": "52f14809-50ac-4326-a196-e01c398e66a8",
   "metadata": {},
   "outputs": [
    {
     "data": {
      "text/html": [
       "<div>\n",
       "<style scoped>\n",
       "    .dataframe tbody tr th:only-of-type {\n",
       "        vertical-align: middle;\n",
       "    }\n",
       "\n",
       "    .dataframe tbody tr th {\n",
       "        vertical-align: top;\n",
       "    }\n",
       "\n",
       "    .dataframe thead th {\n",
       "        text-align: right;\n",
       "    }\n",
       "</style>\n",
       "<table border=\"1\" class=\"dataframe\">\n",
       "  <thead>\n",
       "    <tr style=\"text-align: right;\">\n",
       "      <th></th>\n",
       "      <th>category</th>\n",
       "      <th>price</th>\n",
       "    </tr>\n",
       "  </thead>\n",
       "  <tbody>\n",
       "    <tr>\n",
       "      <th>0</th>\n",
       "      <td>Hi-Fi Speakers</td>\n",
       "      <td>21.99</td>\n",
       "    </tr>\n",
       "    <tr>\n",
       "      <th>1</th>\n",
       "      <td>Hi-Fi Speakers</td>\n",
       "      <td>23.99</td>\n",
       "    </tr>\n",
       "    <tr>\n",
       "      <th>2</th>\n",
       "      <td>Hi-Fi Speakers</td>\n",
       "      <td>21.99</td>\n",
       "    </tr>\n",
       "    <tr>\n",
       "      <th>3</th>\n",
       "      <td>Hi-Fi Speakers</td>\n",
       "      <td>31.99</td>\n",
       "    </tr>\n",
       "    <tr>\n",
       "      <th>4</th>\n",
       "      <td>Hi-Fi Speakers</td>\n",
       "      <td>17.99</td>\n",
       "    </tr>\n",
       "    <tr>\n",
       "      <th>5</th>\n",
       "      <td>Hi-Fi Speakers</td>\n",
       "      <td>31.99</td>\n",
       "    </tr>\n",
       "  </tbody>\n",
       "</table>\n",
       "</div>"
      ],
      "text/plain": [
       "         category  price\n",
       "0  Hi-Fi Speakers  21.99\n",
       "1  Hi-Fi Speakers  23.99\n",
       "2  Hi-Fi Speakers  21.99\n",
       "3  Hi-Fi Speakers  31.99\n",
       "4  Hi-Fi Speakers  17.99\n",
       "5  Hi-Fi Speakers  31.99"
      ]
     },
     "execution_count": 480,
     "metadata": {},
     "output_type": "execute_result"
    }
   ],
   "source": [
    "violin_plots.head(6)"
   ]
  },
  {
   "cell_type": "code",
   "execution_count": 543,
   "id": "4da85cd8-f959-462e-a67f-e17eeaa1f1a8",
   "metadata": {},
   "outputs": [
    {
     "data": {
      "text/plain": [
       "category\n",
       "Sports & Outdoors                         694092\n",
       "Beauty                                     19233\n",
       "Bath & Body                                19050\n",
       "Manicure & Pedicure Products               18904\n",
       "Handmade Clothing, Shoes & Accessories     18811\n",
       "Name: count, dtype: int64"
      ]
     },
     "execution_count": 543,
     "metadata": {},
     "output_type": "execute_result"
    }
   ],
   "source": [
    "test_violin = violin_plots[\"category\"].value_counts()\n",
    "test_violin = test_violin[:5]\n",
    "test_violin"
   ]
  },
  {
   "cell_type": "code",
   "execution_count": 547,
   "id": "a5b8e8ff-9040-4a81-8d17-286b7c8893b1",
   "metadata": {},
   "outputs": [
    {
     "data": {
      "text/html": [
       "<div>\n",
       "<style scoped>\n",
       "    .dataframe tbody tr th:only-of-type {\n",
       "        vertical-align: middle;\n",
       "    }\n",
       "\n",
       "    .dataframe tbody tr th {\n",
       "        vertical-align: top;\n",
       "    }\n",
       "\n",
       "    .dataframe thead th {\n",
       "        text-align: right;\n",
       "    }\n",
       "</style>\n",
       "<table border=\"1\" class=\"dataframe\">\n",
       "  <thead>\n",
       "    <tr style=\"text-align: right;\">\n",
       "      <th></th>\n",
       "      <th>category</th>\n",
       "      <th>count</th>\n",
       "    </tr>\n",
       "  </thead>\n",
       "  <tbody>\n",
       "    <tr>\n",
       "      <th>0</th>\n",
       "      <td>Sports &amp; Outdoors</td>\n",
       "      <td>694092</td>\n",
       "    </tr>\n",
       "    <tr>\n",
       "      <th>1</th>\n",
       "      <td>Beauty</td>\n",
       "      <td>19233</td>\n",
       "    </tr>\n",
       "    <tr>\n",
       "      <th>2</th>\n",
       "      <td>Bath &amp; Body</td>\n",
       "      <td>19050</td>\n",
       "    </tr>\n",
       "    <tr>\n",
       "      <th>3</th>\n",
       "      <td>Manicure &amp; Pedicure Products</td>\n",
       "      <td>18904</td>\n",
       "    </tr>\n",
       "    <tr>\n",
       "      <th>4</th>\n",
       "      <td>Handmade Clothing, Shoes &amp; Accessories</td>\n",
       "      <td>18811</td>\n",
       "    </tr>\n",
       "  </tbody>\n",
       "</table>\n",
       "</div>"
      ],
      "text/plain": [
       "                                 category   count\n",
       "0                       Sports & Outdoors  694092\n",
       "1                                  Beauty   19233\n",
       "2                             Bath & Body   19050\n",
       "3            Manicure & Pedicure Products   18904\n",
       "4  Handmade Clothing, Shoes & Accessories   18811"
      ]
     },
     "execution_count": 547,
     "metadata": {},
     "output_type": "execute_result"
    }
   ],
   "source": [
    "test_violin = pd.DataFrame(test_violin)\n",
    "test_violin = test_violin.reset_index()\n",
    "test_violin"
   ]
  },
  {
   "cell_type": "code",
   "execution_count": 549,
   "id": "2a68f389-ff56-4eca-9f47-992659b94e60",
   "metadata": {},
   "outputs": [],
   "source": [
    "filt_d_violin = violin_plots.merge(test_violin, on=\"category\")\n"
   ]
  },
  {
   "cell_type": "code",
   "execution_count": 551,
   "id": "80123cb6-414c-4a1e-8d35-d83957221c52",
   "metadata": {},
   "outputs": [
    {
     "data": {
      "text/html": [
       "<div>\n",
       "<style scoped>\n",
       "    .dataframe tbody tr th:only-of-type {\n",
       "        vertical-align: middle;\n",
       "    }\n",
       "\n",
       "    .dataframe tbody tr th {\n",
       "        vertical-align: top;\n",
       "    }\n",
       "\n",
       "    .dataframe thead th {\n",
       "        text-align: right;\n",
       "    }\n",
       "</style>\n",
       "<table border=\"1\" class=\"dataframe\">\n",
       "  <thead>\n",
       "    <tr style=\"text-align: right;\">\n",
       "      <th></th>\n",
       "      <th>category</th>\n",
       "      <th>price</th>\n",
       "      <th>count</th>\n",
       "    </tr>\n",
       "  </thead>\n",
       "  <tbody>\n",
       "    <tr>\n",
       "      <th>0</th>\n",
       "      <td>Sports &amp; Outdoors</td>\n",
       "      <td>6.49</td>\n",
       "      <td>694092</td>\n",
       "    </tr>\n",
       "    <tr>\n",
       "      <th>1</th>\n",
       "      <td>Sports &amp; Outdoors</td>\n",
       "      <td>49.99</td>\n",
       "      <td>694092</td>\n",
       "    </tr>\n",
       "    <tr>\n",
       "      <th>2</th>\n",
       "      <td>Sports &amp; Outdoors</td>\n",
       "      <td>16.98</td>\n",
       "      <td>694092</td>\n",
       "    </tr>\n",
       "    <tr>\n",
       "      <th>3</th>\n",
       "      <td>Sports &amp; Outdoors</td>\n",
       "      <td>19.95</td>\n",
       "      <td>694092</td>\n",
       "    </tr>\n",
       "    <tr>\n",
       "      <th>4</th>\n",
       "      <td>Sports &amp; Outdoors</td>\n",
       "      <td>49.99</td>\n",
       "      <td>694092</td>\n",
       "    </tr>\n",
       "    <tr>\n",
       "      <th>...</th>\n",
       "      <td>...</td>\n",
       "      <td>...</td>\n",
       "      <td>...</td>\n",
       "    </tr>\n",
       "    <tr>\n",
       "      <th>770085</th>\n",
       "      <td>Sports &amp; Outdoors</td>\n",
       "      <td>99.67</td>\n",
       "      <td>694092</td>\n",
       "    </tr>\n",
       "    <tr>\n",
       "      <th>770086</th>\n",
       "      <td>Sports &amp; Outdoors</td>\n",
       "      <td>20.62</td>\n",
       "      <td>694092</td>\n",
       "    </tr>\n",
       "    <tr>\n",
       "      <th>770087</th>\n",
       "      <td>Sports &amp; Outdoors</td>\n",
       "      <td>59.86</td>\n",
       "      <td>694092</td>\n",
       "    </tr>\n",
       "    <tr>\n",
       "      <th>770088</th>\n",
       "      <td>Sports &amp; Outdoors</td>\n",
       "      <td>14.99</td>\n",
       "      <td>694092</td>\n",
       "    </tr>\n",
       "    <tr>\n",
       "      <th>770089</th>\n",
       "      <td>Sports &amp; Outdoors</td>\n",
       "      <td>24.99</td>\n",
       "      <td>694092</td>\n",
       "    </tr>\n",
       "  </tbody>\n",
       "</table>\n",
       "<p>770090 rows × 3 columns</p>\n",
       "</div>"
      ],
      "text/plain": [
       "                 category  price   count\n",
       "0       Sports & Outdoors   6.49  694092\n",
       "1       Sports & Outdoors  49.99  694092\n",
       "2       Sports & Outdoors  16.98  694092\n",
       "3       Sports & Outdoors  19.95  694092\n",
       "4       Sports & Outdoors  49.99  694092\n",
       "...                   ...    ...     ...\n",
       "770085  Sports & Outdoors  99.67  694092\n",
       "770086  Sports & Outdoors  20.62  694092\n",
       "770087  Sports & Outdoors  59.86  694092\n",
       "770088  Sports & Outdoors  14.99  694092\n",
       "770089  Sports & Outdoors  24.99  694092\n",
       "\n",
       "[770090 rows x 3 columns]"
      ]
     },
     "execution_count": 551,
     "metadata": {},
     "output_type": "execute_result"
    }
   ],
   "source": [
    "filt_d_violin  # only 5 categories"
   ]
  },
  {
   "cell_type": "code",
   "execution_count": null,
   "id": "5599cbb0-0872-4830-b0f7-e4060d12a1bb",
   "metadata": {},
   "outputs": [],
   "source": []
  },
  {
   "cell_type": "code",
   "execution_count": null,
   "id": "37ab065f-343a-4262-b92b-5fb7fe171ac9",
   "metadata": {},
   "outputs": [],
   "source": []
  },
  {
   "cell_type": "code",
   "execution_count": 555,
   "id": "700143f9-be9f-4022-a980-012d7aa57eab",
   "metadata": {},
   "outputs": [
    {
     "data": {
      "image/png": "[encoded data removed]",
      "text/plain": [
       "<Figure size 1200x600 with 1 Axes>"
      ]
     },
     "metadata": {},
     "output_type": "display_data"
    }
   ],
   "source": [
    "plt.figure(figsize=(12, 6))\n",
    "sns.violinplot(x='category', y='price', data=filt_d_violin)\n",
    "plt.xticks(rotation=45)   \n",
    "plt.show()\n"
   ]
  },
  {
   "cell_type": "code",
   "execution_count": null,
   "id": "d159b4d1-9ca6-4cf3-ad65-edc3b3047edd",
   "metadata": {},
   "outputs": [],
   "source": []
  },
  {
   "cell_type": "code",
   "execution_count": null,
   "id": "781d26ac-b76d-4925-85a6-aa32a22344e3",
   "metadata": {},
   "outputs": [],
   "source": []
  },
  {
   "cell_type": "markdown",
   "id": "93e25fc5-a6c8-4333-9371-97a44fcd941d",
   "metadata": {},
   "source": [
    "### 2. Bar Charts:\n",
    "\n",
    "- Create a bar chart comparing the average price of products for the top 10 product categories (based on count).\n",
    "- Which product category commands the highest average price? Don't filter here by top categories."
   ]
  },
  {
   "cell_type": "code",
   "execution_count": 1130,
   "id": "c2dfd529-93de-404b-9a35-8cc0eeaaf7a9",
   "metadata": {},
   "outputs": [],
   "source": [
    "df_barcharts = df.copy()"
   ]
  },
  {
   "cell_type": "code",
   "execution_count": 1131,
   "id": "fb481df6-aaa6-49a6-8315-15e573029dbe",
   "metadata": {},
   "outputs": [
    {
     "data": {
      "text/html": [
       "<div>\n",
       "<style scoped>\n",
       "    .dataframe tbody tr th:only-of-type {\n",
       "        vertical-align: middle;\n",
       "    }\n",
       "\n",
       "    .dataframe tbody tr th {\n",
       "        vertical-align: top;\n",
       "    }\n",
       "\n",
       "    .dataframe thead th {\n",
       "        text-align: right;\n",
       "    }\n",
       "</style>\n",
       "<table border=\"1\" class=\"dataframe\">\n",
       "  <thead>\n",
       "    <tr style=\"text-align: right;\">\n",
       "      <th></th>\n",
       "      <th>uid</th>\n",
       "      <th>asin</th>\n",
       "      <th>title</th>\n",
       "      <th>stars</th>\n",
       "      <th>reviews</th>\n",
       "      <th>price</th>\n",
       "      <th>isBestSeller</th>\n",
       "      <th>boughtInLastMonth</th>\n",
       "      <th>category</th>\n",
       "    </tr>\n",
       "  </thead>\n",
       "  <tbody>\n",
       "  </tbody>\n",
       "</table>\n",
       "</div>"
      ],
      "text/plain": [
       "Empty DataFrame\n",
       "Columns: [uid, asin, title, stars, reviews, price, isBestSeller, boughtInLastMonth, category]\n",
       "Index: []"
      ]
     },
     "execution_count": 1131,
     "metadata": {},
     "output_type": "execute_result"
    }
   ],
   "source": [
    "df_barcharts.head(0)"
   ]
  },
  {
   "cell_type": "code",
   "execution_count": null,
   "id": "c46bc799-f6ed-443f-a419-ac685b2f920a",
   "metadata": {},
   "outputs": [],
   "source": []
  },
  {
   "cell_type": "code",
   "execution_count": 1134,
   "id": "ed093dab-95ee-4952-8edb-ffd248f898f0",
   "metadata": {},
   "outputs": [],
   "source": [
    "df_mean_price = df_barcharts.groupby(\"category\")[\"price\"].mean().reset_index()"
   ]
  },
  {
   "cell_type": "code",
   "execution_count": 1136,
   "id": "5ce28fd1-2a9f-4c1c-bef5-7e4c8e200dca",
   "metadata": {},
   "outputs": [
    {
     "data": {
      "text/html": [
       "<div>\n",
       "<style scoped>\n",
       "    .dataframe tbody tr th:only-of-type {\n",
       "        vertical-align: middle;\n",
       "    }\n",
       "\n",
       "    .dataframe tbody tr th {\n",
       "        vertical-align: top;\n",
       "    }\n",
       "\n",
       "    .dataframe thead th {\n",
       "        text-align: right;\n",
       "    }\n",
       "</style>\n",
       "<table border=\"1\" class=\"dataframe\">\n",
       "  <thead>\n",
       "    <tr style=\"text-align: right;\">\n",
       "      <th></th>\n",
       "      <th>category</th>\n",
       "      <th>price</th>\n",
       "    </tr>\n",
       "  </thead>\n",
       "  <tbody>\n",
       "    <tr>\n",
       "      <th>0</th>\n",
       "      <td>3D Printers</td>\n",
       "      <td>1018.036129</td>\n",
       "    </tr>\n",
       "    <tr>\n",
       "      <th>1</th>\n",
       "      <td>3D Printing &amp; Scanning</td>\n",
       "      <td>99.909599</td>\n",
       "    </tr>\n",
       "  </tbody>\n",
       "</table>\n",
       "</div>"
      ],
      "text/plain": [
       "                 category        price\n",
       "0             3D Printers  1018.036129\n",
       "1  3D Printing & Scanning    99.909599"
      ]
     },
     "execution_count": 1136,
     "metadata": {},
     "output_type": "execute_result"
    }
   ],
   "source": [
    "df_mean_price.head(2)"
   ]
  },
  {
   "cell_type": "code",
   "execution_count": 1137,
   "id": "cd55abb5-dc6b-4d12-a473-9c87a6640c93",
   "metadata": {},
   "outputs": [],
   "source": [
    "df_mean_price.columns = [\"category\", \"average_price\"]"
   ]
  },
  {
   "cell_type": "code",
   "execution_count": 1138,
   "id": "86bf1975-2db4-4aca-b85e-5a32f18b363a",
   "metadata": {},
   "outputs": [],
   "source": [
    "#df_mean_price.head(0)"
   ]
  },
  {
   "cell_type": "code",
   "execution_count": 1140,
   "id": "cd6c9498-fe17-4e82-855d-dcf1fd64655e",
   "metadata": {},
   "outputs": [
    {
     "data": {
      "text/html": [
       "<div>\n",
       "<style scoped>\n",
       "    .dataframe tbody tr th:only-of-type {\n",
       "        vertical-align: middle;\n",
       "    }\n",
       "\n",
       "    .dataframe tbody tr th {\n",
       "        vertical-align: top;\n",
       "    }\n",
       "\n",
       "    .dataframe thead th {\n",
       "        text-align: right;\n",
       "    }\n",
       "</style>\n",
       "<table border=\"1\" class=\"dataframe\">\n",
       "  <thead>\n",
       "    <tr style=\"text-align: right;\">\n",
       "      <th></th>\n",
       "      <th>category</th>\n",
       "      <th>average_price</th>\n",
       "    </tr>\n",
       "  </thead>\n",
       "  <tbody>\n",
       "    <tr>\n",
       "      <th>0</th>\n",
       "      <td>3D Printers</td>\n",
       "      <td>1018.036129</td>\n",
       "    </tr>\n",
       "    <tr>\n",
       "      <th>1</th>\n",
       "      <td>3D Printing &amp; Scanning</td>\n",
       "      <td>99.909599</td>\n",
       "    </tr>\n",
       "  </tbody>\n",
       "</table>\n",
       "</div>"
      ],
      "text/plain": [
       "                 category  average_price\n",
       "0             3D Printers    1018.036129\n",
       "1  3D Printing & Scanning      99.909599"
      ]
     },
     "execution_count": 1140,
     "metadata": {},
     "output_type": "execute_result"
    }
   ],
   "source": [
    "df_mean_price.head(2)"
   ]
  },
  {
   "cell_type": "code",
   "execution_count": 1143,
   "id": "1c1b4562-13ff-43bb-8a52-b0413409501c",
   "metadata": {},
   "outputs": [],
   "source": [
    "df_mean_price = df_mean_price.sort_values(by=\"average_price\", ascending=False)"
   ]
  },
  {
   "cell_type": "code",
   "execution_count": 1144,
   "id": "5eaf6f31-9555-46ed-a847-2874d6db4a12",
   "metadata": {},
   "outputs": [
    {
     "data": {
      "text/html": [
       "<div>\n",
       "<style scoped>\n",
       "    .dataframe tbody tr th:only-of-type {\n",
       "        vertical-align: middle;\n",
       "    }\n",
       "\n",
       "    .dataframe tbody tr th {\n",
       "        vertical-align: top;\n",
       "    }\n",
       "\n",
       "    .dataframe thead th {\n",
       "        text-align: right;\n",
       "    }\n",
       "</style>\n",
       "<table border=\"1\" class=\"dataframe\">\n",
       "  <thead>\n",
       "    <tr style=\"text-align: right;\">\n",
       "      <th></th>\n",
       "      <th>category</th>\n",
       "      <th>average_price</th>\n",
       "    </tr>\n",
       "  </thead>\n",
       "  <tbody>\n",
       "    <tr>\n",
       "      <th>165</th>\n",
       "      <td>Laptops</td>\n",
       "      <td>1087.987827</td>\n",
       "    </tr>\n",
       "    <tr>\n",
       "      <th>0</th>\n",
       "      <td>3D Printers</td>\n",
       "      <td>1018.036129</td>\n",
       "    </tr>\n",
       "  </tbody>\n",
       "</table>\n",
       "</div>"
      ],
      "text/plain": [
       "        category  average_price\n",
       "165      Laptops    1087.987827\n",
       "0    3D Printers    1018.036129"
      ]
     },
     "execution_count": 1144,
     "metadata": {},
     "output_type": "execute_result"
    }
   ],
   "source": [
    "df_mean_price.head(2)"
   ]
  },
  {
   "cell_type": "code",
   "execution_count": null,
   "id": "fd98a7bd-5470-41dc-918d-e7e4ed19387e",
   "metadata": {},
   "outputs": [],
   "source": []
  },
  {
   "cell_type": "code",
   "execution_count": null,
   "id": "f912d22e-8ed2-4a59-88c2-5bee32e6851a",
   "metadata": {},
   "outputs": [],
   "source": []
  },
  {
   "cell_type": "code",
   "execution_count": 1147,
   "id": "aaa9888d-2e88-4e71-91be-5aeaf95a2afb",
   "metadata": {},
   "outputs": [
    {
     "name": "stderr",
     "output_type": "stream",
     "text": [
      "C:\\Users\\SKARLET\\AppData\\Local\\Temp\\ipykernel_13444\\93415807.py:4: FutureWarning: \n",
      "\n",
      "Passing `palette` without assigning `hue` is deprecated and will be removed in v0.14.0. Assign the `y` variable to `hue` and set `legend=False` for the same effect.\n",
      "\n",
      "  sns.barplot(x=\"average_price\", y=\"category\", data=test_aaa, palette=\"viridis\")\n"
     ]
    },
    {
     "data": {
      "image/png": "[encoded data removed]",
      "text/plain": [
       "<Figure size 1200x600 with 1 Axes>"
      ]
     },
     "metadata": {},
     "output_type": "display_data"
    }
   ],
   "source": [
    "test_aaa = df_mean_price.copy()\n",
    "test_aaa = test_aaa[:5]\n",
    "plt.figure(figsize=(12, 6))\n",
    "sns.barplot(x=\"average_price\", y=\"category\", data=test_aaa, palette=\"viridis\")\n",
    "plt.xlabel(\"Average Price\")\n",
    "plt.ylabel(\"Product Category\")\n",
    "plt.show()\n"
   ]
  },
  {
   "cell_type": "code",
   "execution_count": null,
   "id": "c8c6f76f-f191-4305-b618-953cb45e1714",
   "metadata": {},
   "outputs": [],
   "source": []
  },
  {
   "cell_type": "code",
   "execution_count": null,
   "id": "75432b85-ccb5-45fb-839c-7423903feac4",
   "metadata": {},
   "outputs": [],
   "source": []
  },
  {
   "cell_type": "markdown",
   "id": "ec11b7b3-cfb3-4279-b1a3-fd028c680835",
   "metadata": {},
   "source": [
    "### 3. Box Plots:\n",
    "\n",
    "- Visualize the distribution of product ratings based on their category using side-by-side box plots. Filter out the top 10 categories based on count for better visualization.\n",
    "- Which category tends to receive the highest median rating from customers? Don't filter here by top categories."
   ]
  },
  {
   "cell_type": "code",
   "execution_count": null,
   "id": "08f60729-2544-41b8-8b6f-5e9d3b0500b6",
   "metadata": {},
   "outputs": [],
   "source": []
  },
  {
   "cell_type": "markdown",
   "id": "3035ba9b-ee27-4de5-8a34-c7c3a3621411",
   "metadata": {},
   "source": [
    "## Part 3: Investigating the Interplay Between Product Prices and Ratings\n",
    "- Objective: Analyze how product ratings (stars) correlate with product prices."
   ]
  },
  {
   "cell_type": "markdown",
   "id": "32694e79-6d92-4b09-b3e9-9fe5bcd2528d",
   "metadata": {},
   "source": [
    "### 1. Correlation Coefficients:\n",
    "\n",
    "- Calculate the correlation coefficient between price and stars.\n",
    "- Is there a significant correlation between product price and its rating?"
   ]
  },
  {
   "cell_type": "code",
   "execution_count": 769,
   "id": "fdb68e34-5a7a-4570-a21c-1ec55b402f4f",
   "metadata": {},
   "outputs": [
    {
     "data": {
      "text/html": [
       "<div>\n",
       "<style scoped>\n",
       "    .dataframe tbody tr th:only-of-type {\n",
       "        vertical-align: middle;\n",
       "    }\n",
       "\n",
       "    .dataframe tbody tr th {\n",
       "        vertical-align: top;\n",
       "    }\n",
       "\n",
       "    .dataframe thead th {\n",
       "        text-align: right;\n",
       "    }\n",
       "</style>\n",
       "<table border=\"1\" class=\"dataframe\">\n",
       "  <thead>\n",
       "    <tr style=\"text-align: right;\">\n",
       "      <th></th>\n",
       "      <th>uid</th>\n",
       "      <th>asin</th>\n",
       "      <th>title</th>\n",
       "      <th>stars</th>\n",
       "      <th>reviews</th>\n",
       "      <th>price</th>\n",
       "      <th>isBestSeller</th>\n",
       "      <th>boughtInLastMonth</th>\n",
       "      <th>category</th>\n",
       "    </tr>\n",
       "  </thead>\n",
       "  <tbody>\n",
       "  </tbody>\n",
       "</table>\n",
       "</div>"
      ],
      "text/plain": [
       "Empty DataFrame\n",
       "Columns: [uid, asin, title, stars, reviews, price, isBestSeller, boughtInLastMonth, category]\n",
       "Index: []"
      ]
     },
     "execution_count": 769,
     "metadata": {},
     "output_type": "execute_result"
    }
   ],
   "source": [
    "df.head(0)"
   ]
  },
  {
   "cell_type": "code",
   "execution_count": 771,
   "id": "b27285ce-b037-4178-a122-4fdf530189d8",
   "metadata": {},
   "outputs": [],
   "source": [
    "part3_rating = df.copy()\n"
   ]
  },
  {
   "cell_type": "code",
   "execution_count": 773,
   "id": "39c2fdc4-36f9-4591-a0e9-f93884796054",
   "metadata": {},
   "outputs": [
    {
     "data": {
      "text/html": [
       "<div>\n",
       "<style scoped>\n",
       "    .dataframe tbody tr th:only-of-type {\n",
       "        vertical-align: middle;\n",
       "    }\n",
       "\n",
       "    .dataframe tbody tr th {\n",
       "        vertical-align: top;\n",
       "    }\n",
       "\n",
       "    .dataframe thead th {\n",
       "        text-align: right;\n",
       "    }\n",
       "</style>\n",
       "<table border=\"1\" class=\"dataframe\">\n",
       "  <thead>\n",
       "    <tr style=\"text-align: right;\">\n",
       "      <th></th>\n",
       "      <th>uid</th>\n",
       "      <th>asin</th>\n",
       "      <th>title</th>\n",
       "      <th>stars</th>\n",
       "      <th>reviews</th>\n",
       "      <th>price</th>\n",
       "      <th>isBestSeller</th>\n",
       "      <th>boughtInLastMonth</th>\n",
       "      <th>category</th>\n",
       "    </tr>\n",
       "  </thead>\n",
       "  <tbody>\n",
       "    <tr>\n",
       "      <th>0</th>\n",
       "      <td>1</td>\n",
       "      <td>B09B96TG33</td>\n",
       "      <td>Echo Dot (5th generation, 2022 release) | Big ...</td>\n",
       "      <td>4.7</td>\n",
       "      <td>15308</td>\n",
       "      <td>21.99</td>\n",
       "      <td>False</td>\n",
       "      <td>0</td>\n",
       "      <td>Hi-Fi Speakers</td>\n",
       "    </tr>\n",
       "  </tbody>\n",
       "</table>\n",
       "</div>"
      ],
      "text/plain": [
       "   uid        asin                                              title  stars  \\\n",
       "0    1  B09B96TG33  Echo Dot (5th generation, 2022 release) | Big ...    4.7   \n",
       "\n",
       "   reviews  price  isBestSeller  boughtInLastMonth        category  \n",
       "0    15308  21.99         False                  0  Hi-Fi Speakers  "
      ]
     },
     "execution_count": 773,
     "metadata": {},
     "output_type": "execute_result"
    }
   ],
   "source": [
    "part3_rating.head(1)"
   ]
  },
  {
   "cell_type": "code",
   "execution_count": 775,
   "id": "eab888ca-f40e-4b7b-8684-e3fd51de813d",
   "metadata": {},
   "outputs": [],
   "source": [
    "pearson_corr = part3_rating[\"stars\"].corr(part3_rating[\"price\"])"
   ]
  },
  {
   "cell_type": "code",
   "execution_count": 777,
   "id": "1debecd4-6651-4299-8bdc-ca1f07c5568f",
   "metadata": {},
   "outputs": [
    {
     "data": {
      "text/plain": [
       "-0.12"
      ]
     },
     "execution_count": 777,
     "metadata": {},
     "output_type": "execute_result"
    }
   ],
   "source": [
    "# -1 a 1\n",
    "# 0.1 - 0.3 weak cor \n",
    "#0.3 - 0.5 moderate cor \n",
    "#0.5 - 0.7 strong corr \n",
    "#0.7 - 1.0 very strong cor \n",
    "\n",
    "pearson_corr = pearson_corr.round(2)    \n",
    "pearson_corr           #we only use pearson when we don't have many outliers\n",
    "\n",
    "#no correlation between stars and price"
   ]
  },
  {
   "cell_type": "code",
   "execution_count": null,
   "id": "994523f2-2f4f-4306-8d32-f974f074795d",
   "metadata": {},
   "outputs": [],
   "source": []
  },
  {
   "cell_type": "code",
   "execution_count": 780,
   "id": "723026c1-a324-4b38-9bb0-04b94a208e4d",
   "metadata": {},
   "outputs": [],
   "source": [
    "spearman_corr  =  part4_rating\n",
    "spearman_corr = part3_rating[[\"stars\",\"price\",]] "
   ]
  },
  {
   "cell_type": "code",
   "execution_count": 782,
   "id": "ba0bcf09-e198-4769-a1ad-a3bf39c0397c",
   "metadata": {},
   "outputs": [
    {
     "data": {
      "text/html": [
       "<div>\n",
       "<style scoped>\n",
       "    .dataframe tbody tr th:only-of-type {\n",
       "        vertical-align: middle;\n",
       "    }\n",
       "\n",
       "    .dataframe tbody tr th {\n",
       "        vertical-align: top;\n",
       "    }\n",
       "\n",
       "    .dataframe thead th {\n",
       "        text-align: right;\n",
       "    }\n",
       "</style>\n",
       "<table border=\"1\" class=\"dataframe\">\n",
       "  <thead>\n",
       "    <tr style=\"text-align: right;\">\n",
       "      <th></th>\n",
       "      <th>stars</th>\n",
       "      <th>price</th>\n",
       "    </tr>\n",
       "  </thead>\n",
       "  <tbody>\n",
       "    <tr>\n",
       "      <th>0</th>\n",
       "      <td>4.7</td>\n",
       "      <td>21.99</td>\n",
       "    </tr>\n",
       "    <tr>\n",
       "      <th>1</th>\n",
       "      <td>4.7</td>\n",
       "      <td>23.99</td>\n",
       "    </tr>\n",
       "  </tbody>\n",
       "</table>\n",
       "</div>"
      ],
      "text/plain": [
       "   stars  price\n",
       "0    4.7  21.99\n",
       "1    4.7  23.99"
      ]
     },
     "execution_count": 782,
     "metadata": {},
     "output_type": "execute_result"
    }
   ],
   "source": [
    "spearman_corr.head(2)"
   ]
  },
  {
   "cell_type": "code",
   "execution_count": null,
   "id": "c0503651-bfb6-4125-aaaf-300c4ba44b9b",
   "metadata": {},
   "outputs": [],
   "source": []
  },
  {
   "cell_type": "code",
   "execution_count": 785,
   "id": "0549e477-4afc-4d66-9f63-f34f0dc8dbee",
   "metadata": {},
   "outputs": [
    {
     "data": {
      "text/plain": [
       "stars    1.000000\n",
       "price   -0.133164\n",
       "dtype: float64"
      ]
     },
     "execution_count": 785,
     "metadata": {},
     "output_type": "execute_result"
    }
   ],
   "source": [
    "#classs #spearman_correlations_sorted = num.corrwith(df['SalePrice'], method='pearson').sort_values(ascending=False) # positive ones  #spearman_correlations_sorted\n",
    "spearman_corr = spearman_corr.corrwith(df[\"stars\"], method='spearman')\n",
    "spearman_corr"
   ]
  },
  {
   "cell_type": "code",
   "execution_count": 787,
   "id": "83603a17-d18e-4b99-aa9b-448b97176dfd",
   "metadata": {},
   "outputs": [],
   "source": [
    " # -1 a 1\n",
    "# 0.1 - 0.3 weak cor \n",
    "#0.3 - 0.5 moderate cor \n",
    "#0.5 - 0.7 strong corr \n",
    "#0.7 - 1.0 very strong cor \n",
    "\n",
    "\n",
    "#no correlation between stars and price"
   ]
  },
  {
   "cell_type": "code",
   "execution_count": null,
   "id": "6f6be82c-3003-4334-bb9a-e24f78a1f676",
   "metadata": {},
   "outputs": [],
   "source": []
  },
  {
   "cell_type": "code",
   "execution_count": null,
   "id": "bbd86352-9253-4165-8738-95b4ad2c75e3",
   "metadata": {},
   "outputs": [],
   "source": []
  },
  {
   "cell_type": "markdown",
   "id": "cf278c99-4f68-48ff-8260-17eae99ed1b3",
   "metadata": {},
   "source": [
    "### 2. Visualizations:\n",
    "\n",
    "- Use a scatter plot to visualize the relationship between product rating and price. What patterns can you observe?\n",
    "- Use a correlation heatmap to visualize correlations between all numerical variables.\n",
    "- Examine if product prices typically follow a normal distribution using a QQ plot."
   ]
  },
  {
   "cell_type": "code",
   "execution_count": null,
   "id": "7d31412d-bdc6-40ea-a6ae-20f36671af1f",
   "metadata": {},
   "outputs": [],
   "source": []
  },
  {
   "cell_type": "code",
   "execution_count": 652,
   "id": "e52b9756-39c4-447f-b644-91f51bc21976",
   "metadata": {},
   "outputs": [],
   "source": [
    "# Use a scatter plot to visualize the relationship between product rating and price. What patterns can you observe?"
   ]
  },
  {
   "cell_type": "code",
   "execution_count": 655,
   "id": "53e3abde-5323-49ec-ac9d-d7271b7b37a3",
   "metadata": {},
   "outputs": [
    {
     "data": {
      "image/png": "[encoded data removed]",
      "text/plain": [
       "<Figure size 1000x600 with 1 Axes>"
      ]
     },
     "metadata": {},
     "output_type": "display_data"
    }
   ],
   "source": [
    "plt.figure(figsize=(10, 6))\n",
    "sns.scatterplot(data=part3_rating, x=\"stars\", y=\"price\")\n",
    "plt.grid(True)\n",
    "plt.show()\n"
   ]
  },
  {
   "cell_type": "code",
   "execution_count": 657,
   "id": "a5aa5b87-3e72-4d3e-aceb-f773bc4328e1",
   "metadata": {},
   "outputs": [],
   "source": [
    "# Use a scatter plot to visualize the relationship between product rating and price. What patterns can you observe?\n",
    "\n",
    "#not seem clear at all, i don't know"
   ]
  },
  {
   "cell_type": "code",
   "execution_count": null,
   "id": "c27b8ec6-f659-4822-b64a-ec6775268655",
   "metadata": {},
   "outputs": [],
   "source": []
  },
  {
   "cell_type": "code",
   "execution_count": null,
   "id": "1189ad11-e6dc-47bc-b740-6d98624a94a7",
   "metadata": {},
   "outputs": [],
   "source": [
    "correlation_matrix = num.corr()"
   ]
  },
  {
   "cell_type": "code",
   "execution_count": 622,
   "id": "fea0615d-4de0-4162-a1ce-4407bcf46197",
   "metadata": {},
   "outputs": [],
   "source": [
    "#Use a correlation heatmap to visualize correlations between all numerical variables."
   ]
  },
  {
   "cell_type": "code",
   "execution_count": 879,
   "id": "1c7bc4d4-d2ea-40fa-b349-44418cc785a2",
   "metadata": {},
   "outputs": [],
   "source": [
    "test_heatmap = part3_rating.copy()"
   ]
  },
  {
   "cell_type": "code",
   "execution_count": 887,
   "id": "9a1464d3-c10b-4297-8fc0-3dbf39055b9f",
   "metadata": {},
   "outputs": [
    {
     "data": {
      "text/html": [
       "<div>\n",
       "<style scoped>\n",
       "    .dataframe tbody tr th:only-of-type {\n",
       "        vertical-align: middle;\n",
       "    }\n",
       "\n",
       "    .dataframe tbody tr th {\n",
       "        vertical-align: top;\n",
       "    }\n",
       "\n",
       "    .dataframe thead th {\n",
       "        text-align: right;\n",
       "    }\n",
       "</style>\n",
       "<table border=\"1\" class=\"dataframe\">\n",
       "  <thead>\n",
       "    <tr style=\"text-align: right;\">\n",
       "      <th></th>\n",
       "      <th>stars</th>\n",
       "      <th>price</th>\n",
       "    </tr>\n",
       "  </thead>\n",
       "  <tbody>\n",
       "    <tr>\n",
       "      <th>0</th>\n",
       "      <td>4.7</td>\n",
       "      <td>21.99</td>\n",
       "    </tr>\n",
       "  </tbody>\n",
       "</table>\n",
       "</div>"
      ],
      "text/plain": [
       "   stars  price\n",
       "0    4.7  21.99"
      ]
     },
     "execution_count": 887,
     "metadata": {},
     "output_type": "execute_result"
    }
   ],
   "source": [
    "test_heatmap = test_heatmap[[\"stars\",\"price\"]]\n",
    "test_heatmap.head(1)"
   ]
  },
  {
   "cell_type": "code",
   "execution_count": 890,
   "id": "58fb18c8-9caf-4d64-9ca9-b31d0b9c139c",
   "metadata": {},
   "outputs": [],
   "source": [
    "test_heatmap = test_heatmap.corr()"
   ]
  },
  {
   "cell_type": "code",
   "execution_count": 894,
   "id": "94862f9c-3035-4360-bd34-0820c9df3439",
   "metadata": {},
   "outputs": [
    {
     "data": {
      "image/png": "[encoded data removed]",
      "text/plain": [
       "<Figure size 1000x600 with 2 Axes>"
      ]
     },
     "metadata": {},
     "output_type": "display_data"
    }
   ],
   "source": [
    " \n",
    "plt.figure(figsize=(10, 6))\n",
    " \n",
    "sns.heatmap(test_heatmap, annot=True, cmap=\"coolwarm\")\n",
    "\n",
    "plt.title(\"Correlation Heatmap for Selected Numerical Variables\")\n",
    "plt.show()"
   ]
  },
  {
   "cell_type": "code",
   "execution_count": null,
   "id": "ce913555-1a22-4648-8565-688dbfc5409f",
   "metadata": {},
   "outputs": [],
   "source": []
  },
  {
   "cell_type": "code",
   "execution_count": null,
   "id": "4dcef6e4-a3ef-4e96-8e0c-989f34f61a82",
   "metadata": {},
   "outputs": [],
   "source": []
  },
  {
   "cell_type": "code",
   "execution_count": null,
   "id": "5df43678-2226-4b31-aa53-f4cba982d31c",
   "metadata": {},
   "outputs": [],
   "source": []
  },
  {
   "cell_type": "code",
   "execution_count": null,
   "id": "0329aa1c-57c8-4e85-9bdf-6b501ffecb75",
   "metadata": {},
   "outputs": [],
   "source": []
  },
  {
   "cell_type": "code",
   "execution_count": null,
   "id": "e6c82360-b56e-47b0-95ef-4514e62a4066",
   "metadata": {},
   "outputs": [],
   "source": []
  },
  {
   "cell_type": "code",
   "execution_count": null,
   "id": "a8a99c7e-5511-425b-ae73-95082c52e662",
   "metadata": {},
   "outputs": [],
   "source": []
  },
  {
   "cell_type": "code",
   "execution_count": null,
   "id": "5a5bcd7e-ffa4-4181-8467-c5cac2f56004",
   "metadata": {},
   "outputs": [],
   "source": []
  },
  {
   "cell_type": "markdown",
   "id": "d3e07552-0901-445a-add2-a0293b1a5cb0",
   "metadata": {},
   "source": [
    "# s"
   ]
  },
  {
   "cell_type": "code",
   "execution_count": null,
   "id": "a363ad57-01ab-48a1-8ab7-79493baf69dd",
   "metadata": {},
   "outputs": [],
   "source": []
  },
  {
   "cell_type": "code",
   "execution_count": null,
   "id": "62ecffeb-6290-487d-9028-45f49adaa838",
   "metadata": {},
   "outputs": [],
   "source": []
  },
  {
   "cell_type": "code",
   "execution_count": null,
   "id": "32f4c6df-ccec-42e1-bcc6-470dd92b8c3f",
   "metadata": {},
   "outputs": [],
   "source": []
  },
  {
   "cell_type": "code",
   "execution_count": null,
   "id": "768151b4-9953-4ec0-bb74-86677e443889",
   "metadata": {},
   "outputs": [],
   "source": []
  },
  {
   "cell_type": "code",
   "execution_count": null,
   "id": "aa80d531-0ceb-408f-b51c-05e5bfcb021d",
   "metadata": {},
   "outputs": [],
   "source": []
  },
  {
   "cell_type": "code",
   "execution_count": null,
   "id": "46a33fda-42d5-43b0-94e9-83ed2e1a9a3b",
   "metadata": {},
   "outputs": [],
   "source": []
  },
  {
   "cell_type": "code",
   "execution_count": null,
   "id": "0c340794-e349-4488-aa18-cbd959597bc5",
   "metadata": {},
   "outputs": [],
   "source": []
  },
  {
   "cell_type": "code",
   "execution_count": null,
   "id": "169a3a77-fe61-4fb9-8ce2-8afdf641b721",
   "metadata": {},
   "outputs": [],
   "source": []
  },
  {
   "cell_type": "code",
   "execution_count": null,
   "id": "1537f5a1-b67e-48f1-87c2-097a3463f36d",
   "metadata": {},
   "outputs": [],
   "source": []
  }
 ],
 "metadata": {
  "kernelspec": {
   "display_name": "Python 3 (ipykernel)",
   "language": "python",
   "name": "python3"
  },
  "language_info": {
   "codemirror_mode": {
    "name": "ipython",
    "version": 3
   },
   "file_extension": ".py",
   "mimetype": "text/x-python",
   "name": "python",
   "nbconvert_exporter": "python",
   "pygments_lexer": "ipython3",
   "version": "3.12.4"
  }
 },
 "nbformat": 4,
 "nbformat_minor": 5
}
